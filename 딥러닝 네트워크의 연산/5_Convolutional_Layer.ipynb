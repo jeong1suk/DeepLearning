{
  "nbformat": 4,
  "nbformat_minor": 0,
  "metadata": {
    "colab": {
      "private_outputs": true,
      "provenance": [],
      "authorship_tag": "ABX9TyPYq/ZfsAGAzvJDg9VzsLaP",
      "include_colab_link": true
    },
    "kernelspec": {
      "name": "python3",
      "display_name": "Python 3"
    },
    "language_info": {
      "name": "python"
    }
  },
  "cells": [
    {
      "cell_type": "markdown",
      "metadata": {
        "id": "view-in-github",
        "colab_type": "text"
      },
      "source": [
        "<a href=\"https://colab.research.google.com/github/jeong1suk/DeepLearning/blob/math/%EB%94%A5%EB%9F%AC%EB%8B%9D%20%EB%84%A4%ED%8A%B8%EC%9B%8C%ED%81%AC%EC%9D%98%20%EC%97%B0%EC%82%B0/5_Convolutional_Layer.ipynb\" target=\"_parent\"><img src=\"https://colab.research.google.com/assets/colab-badge.svg\" alt=\"Open In Colab\"/></a>"
      ]
    },
    {
      "cell_type": "markdown",
      "source": [
        "# 5-1: Conv Layers"
      ],
      "metadata": {
        "id": "2g2wMlyVnS50"
      }
    },
    {
      "cell_type": "markdown",
      "source": [
        "## Code.5-1-1: Shapes of Conv Layers"
      ],
      "metadata": {
        "id": "fRcjXWsCnVvi"
      }
    },
    {
      "cell_type": "code",
      "execution_count": null,
      "metadata": {
        "id": "1kfLmNtxnHoD"
      },
      "outputs": [],
      "source": [
        "import tensorflow as tf\n",
        "from tensorflow.keras.layers import Conv2D"
      ]
    },
    {
      "cell_type": "code",
      "source": [
        "N, n_H, n_W, n_C = 1, 28, 28, 1\n",
        "n_filter = 1\n",
        "k_size = 3\n",
        "\n",
        "images = tf.random.uniform(minval=0, maxval=1,\n",
        "                           shape=((N, n_H, n_W, n_C)))\n",
        "\n",
        "conv = Conv2D(filters=n_filter, kernel_size=k_size)\n",
        "\n",
        "y = conv(images)\n",
        "\n",
        "W, B = conv.get_weights()\n",
        "\n",
        "print(images.shape)\n",
        "print(W.shape) # (H, W, C, filter)\n",
        "print(B.shape)\n",
        "print(y.shape)"
      ],
      "metadata": {
        "id": "EpG8blopneSi"
      },
      "execution_count": null,
      "outputs": []
    },
    {
      "cell_type": "markdown",
      "source": [
        "## Code.5-1-2: Correaltion Calculation"
      ],
      "metadata": {
        "id": "G_eM7T06oIKB"
      }
    },
    {
      "cell_type": "code",
      "source": [
        "import numpy as np\n",
        "import tensorflow as tf\n",
        "from tensorflow.keras.layers import Conv2D"
      ],
      "metadata": {
        "id": "68wsJ4dxn45D"
      },
      "execution_count": null,
      "outputs": []
    },
    {
      "cell_type": "code",
      "source": [
        "N, n_H, n_W, n_C = 1, 5, 5, 1\n",
        "n_filter = 1\n",
        "k_size = 3\n",
        "\n",
        "images = tf.random.uniform(minval=0, maxval=1,\n",
        "                           shape=((N, n_H, n_W, n_C)))\n",
        "\n",
        "conv = Conv2D(filters=n_filter, kernel_size=k_size)\n",
        "\n",
        "y = conv(images)\n",
        "print(\"Y(Tensorflow): \", y.numpy().squeeze())\n",
        "W, B = conv.get_weights()\n",
        "\n",
        "####\n",
        "images = images.numpy().squeeze()\n",
        "W = W.squeeze()\n",
        "\n",
        "y_man = np.zeros(shape=(n_H - k_size + 1, n_W - k_size + 1))\n",
        "for i in range(n_H - k_size + 1):\n",
        "    for j in range(n_W - k_size + 1):\n",
        "        window = images[i:i+k_size, j:j+k_size]\n",
        "        y_man[i, j] = np.sum(window*W) + B\n",
        "\n",
        "print(\"Y(Manual): \", y_man)"
      ],
      "metadata": {
        "id": "yp5xo4u3oLjx"
      },
      "execution_count": null,
      "outputs": []
    },
    {
      "cell_type": "markdown",
      "source": [
        "## Code.5-1-3: Correalation with n-channel"
      ],
      "metadata": {
        "id": "VZvj6z0UpoJW"
      }
    },
    {
      "cell_type": "code",
      "source": [
        "import numpy as np\n",
        "import tensorflow as tf\n",
        "from tensorflow.keras.layers import Conv2D"
      ],
      "metadata": {
        "id": "V8bZv9oXp9dR"
      },
      "execution_count": null,
      "outputs": []
    },
    {
      "cell_type": "code",
      "source": [
        "N, n_H, n_W, n_C = 1, 5, 5, 3\n",
        "n_filter = 1\n",
        "k_size = 3\n",
        "\n",
        "images = tf.random.uniform(minval=0, maxval=1,\n",
        "                           shape=((N, n_H, n_W, n_C)))\n",
        "\n",
        "conv = Conv2D(filters=n_filter, kernel_size=k_size)\n",
        "\n",
        "y = conv(images)\n",
        "print(\"Y(Tensorflow): \", y.numpy().squeeze())\n",
        "W, B = conv.get_weights()\n",
        "\n",
        "####\n",
        "images = images.numpy().squeeze()\n",
        "W = W.squeeze()\n",
        "\n",
        "y_man = np.zeros(shape=(n_H - k_size + 1, n_W - k_size + 1))\n",
        "for i in range(n_H - k_size + 1):\n",
        "    for j in range(n_W - k_size + 1):\n",
        "        window = images[i:i+k_size, j:j+k_size, :]\n",
        "        y_man[i, j] = np.sum(window*W) + B\n",
        "\n",
        "print(\"Y(Manual): \", y_man)"
      ],
      "metadata": {
        "id": "9drGjb13ocYR"
      },
      "execution_count": null,
      "outputs": []
    },
    {
      "cell_type": "code",
      "source": [],
      "metadata": {
        "id": "oFOibi-9qB6p"
      },
      "execution_count": null,
      "outputs": []
    }
  ]
}