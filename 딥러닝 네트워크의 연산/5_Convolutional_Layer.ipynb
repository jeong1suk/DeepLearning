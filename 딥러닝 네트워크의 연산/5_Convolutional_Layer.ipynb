{
  "nbformat": 4,
  "nbformat_minor": 0,
  "metadata": {
    "colab": {
      "private_outputs": true,
      "provenance": [],
      "authorship_tag": "ABX9TyPlMDGE/vlagGnxmjOF4HSI",
      "include_colab_link": true
    },
    "kernelspec": {
      "name": "python3",
      "display_name": "Python 3"
    },
    "language_info": {
      "name": "python"
    }
  },
  "cells": [
    {
      "cell_type": "markdown",
      "metadata": {
        "id": "view-in-github",
        "colab_type": "text"
      },
      "source": [
        "<a href=\"https://colab.research.google.com/github/jeong1suk/DeepLearning/blob/math/%EB%94%A5%EB%9F%AC%EB%8B%9D%20%EB%84%A4%ED%8A%B8%EC%9B%8C%ED%81%AC%EC%9D%98%20%EC%97%B0%EC%82%B0/5_Convolutional_Layer.ipynb\" target=\"_parent\"><img src=\"https://colab.research.google.com/assets/colab-badge.svg\" alt=\"Open In Colab\"/></a>"
      ]
    },
    {
      "cell_type": "markdown",
      "source": [
        "# 5-1: Conv Layers"
      ],
      "metadata": {
        "id": "2g2wMlyVnS50"
      }
    },
    {
      "cell_type": "markdown",
      "source": [
        "## Code.5-1-1: Shapes of Conv Layers"
      ],
      "metadata": {
        "id": "fRcjXWsCnVvi"
      }
    },
    {
      "cell_type": "code",
      "execution_count": null,
      "metadata": {
        "id": "1kfLmNtxnHoD"
      },
      "outputs": [],
      "source": [
        "import tensorflow as tf\n",
        "from tensorflow.keras.layers import Conv2D"
      ]
    },
    {
      "cell_type": "code",
      "source": [
        "N, n_H, n_W, n_C = 1, 28, 28, 1\n",
        "n_filter = 1\n",
        "k_size = 3\n",
        "\n",
        "images = tf.random.uniform(minval=0, maxval=1,\n",
        "                           shape=((N, n_H, n_W, n_C)))\n",
        "\n",
        "conv = Conv2D(filters=n_filter, kernel_size=k_size)\n",
        "\n",
        "y = conv(images)\n",
        "\n",
        "W, B = conv.get_weights()\n",
        "\n",
        "print(images.shape)\n",
        "print(W.shape) # (H, W, C, filter)\n",
        "print(B.shape)\n",
        "print(y.shape)"
      ],
      "metadata": {
        "id": "EpG8blopneSi"
      },
      "execution_count": null,
      "outputs": []
    },
    {
      "cell_type": "markdown",
      "source": [
        "## Code.5-1-2: Correaltion Calculation"
      ],
      "metadata": {
        "id": "G_eM7T06oIKB"
      }
    },
    {
      "cell_type": "code",
      "source": [
        "import numpy as np\n",
        "import tensorflow as tf\n",
        "from tensorflow.keras.layers import Conv2D"
      ],
      "metadata": {
        "id": "68wsJ4dxn45D"
      },
      "execution_count": null,
      "outputs": []
    },
    {
      "cell_type": "code",
      "source": [
        "N, n_H, n_W, n_C = 1, 5, 5, 1\n",
        "n_filter = 1\n",
        "k_size = 3\n",
        "\n",
        "images = tf.random.uniform(minval=0, maxval=1,\n",
        "                           shape=((N, n_H, n_W, n_C)))\n",
        "\n",
        "conv = Conv2D(filters=n_filter, kernel_size=k_size)\n",
        "\n",
        "y = conv(images)\n",
        "print(\"Y(Tensorflow): \", y.numpy().squeeze())\n",
        "W, B = conv.get_weights()\n",
        "\n",
        "####\n",
        "images = images.numpy().squeeze()\n",
        "W = W.squeeze()\n",
        "\n",
        "y_man = np.zeros(shape=(n_H - k_size + 1, n_W - k_size + 1))\n",
        "for i in range(n_H - k_size + 1):\n",
        "    for j in range(n_W - k_size + 1):\n",
        "        window = images[i:i+k_size, j:j+k_size]\n",
        "        y_man[i, j] = np.sum(window*W) + B\n",
        "\n",
        "print(\"Y(Manual): \", y_man)"
      ],
      "metadata": {
        "id": "yp5xo4u3oLjx"
      },
      "execution_count": null,
      "outputs": []
    },
    {
      "cell_type": "markdown",
      "source": [
        "## Code.5-1-3: Correalation with n-channel"
      ],
      "metadata": {
        "id": "VZvj6z0UpoJW"
      }
    },
    {
      "cell_type": "code",
      "source": [
        "import numpy as np\n",
        "import tensorflow as tf\n",
        "from tensorflow.keras.layers import Conv2D"
      ],
      "metadata": {
        "id": "V8bZv9oXp9dR"
      },
      "execution_count": null,
      "outputs": []
    },
    {
      "cell_type": "code",
      "source": [
        "N, n_H, n_W, n_C = 1, 5, 5, 3\n",
        "n_filter = 1\n",
        "k_size = 3\n",
        "\n",
        "images = tf.random.uniform(minval=0, maxval=1,\n",
        "                           shape=((N, n_H, n_W, n_C)))\n",
        "\n",
        "conv = Conv2D(filters=n_filter, kernel_size=k_size)\n",
        "\n",
        "y = conv(images)\n",
        "print(\"Y(Tensorflow): \", y.numpy().squeeze())\n",
        "W, B = conv.get_weights()\n",
        "\n",
        "####\n",
        "images = images.numpy().squeeze()\n",
        "W = W.squeeze()\n",
        "\n",
        "y_man = np.zeros(shape=(n_H - k_size + 1, n_W - k_size + 1))\n",
        "for i in range(n_H - k_size + 1):\n",
        "    for j in range(n_W - k_size + 1):\n",
        "        window = images[i:i+k_size, j:j+k_size, :]\n",
        "        y_man[i, j] = np.sum(window*W) + B\n",
        "\n",
        "print(\"Y(Manual): \", y_man)"
      ],
      "metadata": {
        "id": "9drGjb13ocYR"
      },
      "execution_count": null,
      "outputs": []
    },
    {
      "cell_type": "markdown",
      "source": [
        "# 5-2: Conv Layers with Filters"
      ],
      "metadata": {
        "id": "URy2dAUKqTR9"
      }
    },
    {
      "cell_type": "markdown",
      "source": [
        "## Code.5-2-1: Shapes with Filters"
      ],
      "metadata": {
        "id": "9jxdZtHfqVma"
      }
    },
    {
      "cell_type": "code",
      "source": [
        "import tensorflow as tf\n",
        "from tensorflow.keras.layers import Conv2D"
      ],
      "metadata": {
        "id": "oFOibi-9qB6p"
      },
      "execution_count": null,
      "outputs": []
    },
    {
      "cell_type": "code",
      "source": [
        "N, n_H, n_W, n_C = 32, 28, 28, 3\n",
        "n_filter = 5\n",
        "k_size = 3\n",
        "\n",
        "images = tf.random.uniform(minval=0, maxval=1,\n",
        "                           shape=((N, n_H, n_W, n_C)))\n",
        "conv = Conv2D(filters=n_filter, kernel_size=k_size)\n",
        "Y = conv(images)\n",
        "\n",
        "W, B = conv.get_weights()\n",
        "\n",
        "print(\"Input Image: {}\".format(images.shape))\n",
        "print(\"W/B: {} / {}\".format(W.shape, B.shape))\n",
        "print(\"Output Image: {}\".format(Y.shape))"
      ],
      "metadata": {
        "id": "wPI86q1_qdjM"
      },
      "execution_count": null,
      "outputs": []
    },
    {
      "cell_type": "markdown",
      "source": [
        "## Code.5-2-2: Computations with Filters"
      ],
      "metadata": {
        "id": "Tvx5lkx4qYbJ"
      }
    },
    {
      "cell_type": "code",
      "source": [
        "import numpy as np\n",
        "import tensorflow as tf\n",
        "\n",
        "from tensorflow.keras.layers import Conv2D"
      ],
      "metadata": {
        "id": "eLrMh2Kiqcyy"
      },
      "execution_count": null,
      "outputs": []
    },
    {
      "cell_type": "code",
      "source": [
        "N, n_H, n_W, n_C = 1, 5, 5, 3\n",
        "n_filter = 3\n",
        "k_size = 4\n",
        "images = tf.random.uniform(minval=0, maxval=1,\n",
        "                           shape=((N, n_H, n_W, n_C)))\n",
        "\n",
        "# Forward Propagation(Tensorflow)\n",
        "conv = Conv2D(filters=n_filter, kernel_size=k_size)\n",
        "Y = conv(images)\n",
        "Y = np.transpose(Y.numpy().squeeze(), (2, 0, 1))\n",
        "# print(Y.numpy().squeeze().shape)\n",
        "# print(Y.numpy().squeeze().swapaxes(0,-1).shape)\n",
        "print(Y.shape, type(Y), \"\\n\")\n",
        "print(\"Y(Tensorflow): \\n\", Y)\n",
        "\n",
        "W, B = conv.get_weights()\n",
        "# Forward Propagation(Manual)\n",
        "images = images.numpy().squeeze()\n",
        "# print(W.shape, B.shape)\n",
        "\n",
        "y_man = np.zeros(shape=(n_H - k_size + 1, n_W - k_size + 1, n_filter))\n",
        "for c in range(n_filter):\n",
        "    c_W = W[:, :, :, c]\n",
        "    c_b = B[c]\n",
        "\n",
        "    for h in range(n_H - k_size + 1):\n",
        "        for w in range(n_W - k_size + 1):\n",
        "            window = images[h:h+k_size, w:w+k_size, :]\n",
        "            conv = np.sum(window*c_W) + c_b\n",
        "\n",
        "            y_man[h, w, c] = conv\n",
        "\n",
        "print(\"Y(Manual): \\n\",np.transpose(y_man, (2, 0, 1)))"
      ],
      "metadata": {
        "id": "vgo6ziL7qdNM"
      },
      "execution_count": null,
      "outputs": []
    },
    {
      "cell_type": "markdown",
      "source": [
        "# 5-3: Conv Layers with Activations Functions"
      ],
      "metadata": {
        "id": "auwYYB0Tqd5F"
      }
    },
    {
      "cell_type": "markdown",
      "source": [
        "## Code.5-3-1: Conv Layers with Activations Functions"
      ],
      "metadata": {
        "id": "4-CubRfRqkEt"
      }
    },
    {
      "cell_type": "code",
      "source": [
        "import numpy as np\n",
        "import tensorflow as tf\n",
        "\n",
        "from tensorflow.keras.layers import Conv2D"
      ],
      "metadata": {
        "id": "l2frHI9HqjeX"
      },
      "execution_count": null,
      "outputs": []
    },
    {
      "cell_type": "code",
      "source": [
        "N, n_H, n_W, n_C = 1, 5, 5, 3\n",
        "n_filter = 3\n",
        "k_size = 4\n",
        "images = tf.random.uniform(minval=0, maxval=1,\n",
        "                           shape=((N, n_H, n_W, n_C)))\n",
        "\n",
        "# Forward Propagation(Tensorflow)\n",
        "conv = Conv2D(filters=n_filter, kernel_size=k_size, activation='sigmoid')\n",
        "Y = conv(images)\n",
        "Y = np.transpose(Y.numpy().squeeze(), (2, 0, 1))\n",
        "\n",
        "print(\"Y(Tensorflow): \\n\", Y)\n",
        "\n",
        "W, B = conv.get_weights()\n",
        "\n",
        "# Forward Propagation(Manual)\n",
        "images = images.numpy().squeeze()\n",
        "\n",
        "y_man = np.zeros(shape=(n_H - k_size + 1, n_W - k_size + 1, n_filter))\n",
        "for c in range(n_filter):\n",
        "    c_W = W[:, :, :, c]\n",
        "    c_b = B[c]\n",
        "\n",
        "    for h in range(n_H - k_size + 1):\n",
        "        for w in range(n_W - k_size + 1):\n",
        "            window = images[h:h+k_size, w:w+k_size, :]\n",
        "            conv = np.sum(window*c_W) + c_b\n",
        "            conv = 1 / (1 + np.exp(-conv))\n",
        "\n",
        "            y_man[h, w, c] = conv\n",
        "\n",
        "print(\"Y(Manual): \\n\",np.transpose(y_man, (2, 0, 1)))"
      ],
      "metadata": {
        "id": "kA88t36fqjEh"
      },
      "execution_count": null,
      "outputs": []
    },
    {
      "cell_type": "markdown",
      "source": [
        "# 5-4: Models with Conv Layers"
      ],
      "metadata": {
        "id": "3eFHt4s8vPiG"
      }
    },
    {
      "cell_type": "markdown",
      "source": [
        "## Code.5-4-1: Models with Sequential Method"
      ],
      "metadata": {
        "id": "_mY_vB6qvSG8"
      }
    },
    {
      "cell_type": "code",
      "source": [
        "import tensorflow as tf\n",
        "\n",
        "from tensorflow.keras.models import Sequential\n",
        "from tensorflow.keras.layers import Conv2D"
      ],
      "metadata": {
        "id": "5FvyTMLou3su"
      },
      "execution_count": null,
      "outputs": []
    },
    {
      "cell_type": "code",
      "source": [
        "n_neurons = [10, 20, 30]\n",
        "\n",
        "model = Sequential()\n",
        "model.add(Conv2D(filters=n_neurons[0], kernel_size=3, activation='relu'))\n",
        "model.add(Conv2D(filters=n_neurons[1], kernel_size=3, activation='relu'))\n",
        "model.add(Conv2D(filters=n_neurons[2], kernel_size=3, activation='relu'))\n",
        "\n",
        "x = tf.random.normal(shape=(32, 28, 28, 3))\n",
        "predictions = model(x)\n",
        "\n",
        "print(\"Input: {}\".format(x.shape))\n",
        "print(\"Output: {}\".format(predictions.shape))\n",
        "\n",
        "for layer in model.layers:\n",
        "    # print(layer)\n",
        "    W, B = layer.get_weights()\n",
        "    print(W.shape, B.shape)\n",
        "\n",
        "print(\"=\"*40)\n",
        "\n",
        "trainable_variables = model.trainable_variables\n",
        "for train_var in trainable_variables:\n",
        "    print(train_var.shape)"
      ],
      "metadata": {
        "id": "8PA9X9RXvWc0"
      },
      "execution_count": null,
      "outputs": []
    },
    {
      "cell_type": "markdown",
      "source": [
        "## Code.5-4-2: Models with Model Sub-classing"
      ],
      "metadata": {
        "id": "4UVJapblvWo1"
      }
    },
    {
      "cell_type": "code",
      "source": [
        "import numpy as np\n",
        "import tensorflow as tf\n",
        "\n",
        "from tensorflow.keras.models import Model\n",
        "from tensorflow.keras.layers import Conv2D"
      ],
      "metadata": {
        "id": "RLu7Phb9vZYl"
      },
      "execution_count": null,
      "outputs": []
    },
    {
      "cell_type": "code",
      "source": [
        "n_neurons = [10, 20, 30]\n",
        "\n",
        "class TestModel(Model):\n",
        "    def __init__(self):\n",
        "        super(TestModel, self).__init__()\n",
        "        global n_neurons\n",
        "\n",
        "        self.conv_layers = []\n",
        "        for n_neuron in n_neurons:\n",
        "            self.conv_layers.append(Conv2D(filters=n_neuron, kernel_size=3, activation='relu'))\n",
        "\n",
        "    def call(self, x):\n",
        "        print(\"Input: \", x.shape)\n",
        "\n",
        "        print(\"\\n===== Conv Layers=====\\n\")\n",
        "        for conv_layer in self.conv_layers:\n",
        "            x = conv_layer(x)\n",
        "            W, B = conv_layer.get_weights()\n",
        "            print(\"W/B: {}/{}\".format(W.shape, B.shape))\n",
        "            print(\"X: {}\\n\".format(x.shape))\n",
        "        return x\n",
        "\n",
        "model = TestModel()\n",
        "x = tf.random.normal(shape=(32, 28, 28, 3))\n",
        "predictions = model(x)"
      ],
      "metadata": {
        "id": "bUTxMQrpvaCC"
      },
      "execution_count": null,
      "outputs": []
    },
    {
      "cell_type": "code",
      "source": [
        "class TestModel(Model):\n",
        "    def __init__(self):\n",
        "        super(TestModel, self).__init__()\n",
        "        global n_neurons\n",
        "\n",
        "        self.conv1 = Conv2D(filters=n_neurons[0], kernel_size=3, activation='relu')\n",
        "        self.conv2 = Conv2D(filters=n_neurons[1], kernel_size=3, activation='relu')\n",
        "        self.conv3 = Conv2D(filters=n_neurons[2], kernel_size=3, activation='relu')\n",
        "\n",
        "    def call(self, x):\n",
        "        x = self.conv1(x)\n",
        "        x = self.conv2(x)\n",
        "        x = self.conv3(x)\n",
        "        return x"
      ],
      "metadata": {
        "id": "lh-_mPTIxgAd"
      },
      "execution_count": null,
      "outputs": []
    }
  ]
}