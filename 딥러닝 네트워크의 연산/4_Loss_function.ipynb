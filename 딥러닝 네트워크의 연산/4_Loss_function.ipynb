{
  "nbformat": 4,
  "nbformat_minor": 0,
  "metadata": {
    "colab": {
      "provenance": [],
      "authorship_tag": "ABX9TyO4O1vTR0p8y7vURxbPqiK9",
      "include_colab_link": true
    },
    "kernelspec": {
      "name": "python3",
      "display_name": "Python 3"
    },
    "language_info": {
      "name": "python"
    }
  },
  "cells": [
    {
      "cell_type": "markdown",
      "metadata": {
        "id": "view-in-github",
        "colab_type": "text"
      },
      "source": [
        "<a href=\"https://colab.research.google.com/github/jeong1suk/DeepLearning/blob/math/%EB%94%A5%EB%9F%AC%EB%8B%9D%20%EB%84%A4%ED%8A%B8%EC%9B%8C%ED%81%AC%EC%9D%98%20%EC%97%B0%EC%82%B0/4_Loss_function.ipynb\" target=\"_parent\"><img src=\"https://colab.research.google.com/assets/colab-badge.svg\" alt=\"Open In Colab\"/></a>"
      ]
    },
    {
      "cell_type": "markdown",
      "source": [
        "# 4-1: Datasets"
      ],
      "metadata": {
        "id": "U65YeaLbz3f0"
      }
    },
    {
      "cell_type": "markdown",
      "source": [
        "## Code.4-1-1-: Dataset for Regression"
      ],
      "metadata": {
        "id": "YqYxL1Atz5Wz"
      }
    },
    {
      "cell_type": "code",
      "execution_count": null,
      "metadata": {
        "id": "fzHBPgjazkM-"
      },
      "outputs": [],
      "source": [
        "import tensorflow as tf"
      ]
    },
    {
      "cell_type": "code",
      "source": [
        "N, n_feature = 8, 5\n",
        "t_weights = tf.constant([1, 2, 3, 4, 5], dtype=tf.float32)\n",
        "t_bias = tf.constant([10], dtype=tf.float32)\n",
        "\n",
        "print(t_weights)\n",
        "print(t_bias)\n",
        "\n",
        "X = tf.random.normal(mean=0, stddev=1, shape=(N, n_feature))\n",
        "\n",
        "print(X.shape, t_weights.shape, t_bias.shape)\n",
        "\n",
        "Y = tf.reduce_sum(t_weights * X, axis=1)  + t_bias\n",
        "print(\"X(shape/dtype/data): {} / {}\\n{}\".format(X.shape, X.dtype, X.numpy()))\n",
        "print(\"Y(shape/dtype/data): {} / {}\\n{}\".format(Y.shape, Y.dtype, Y.numpy()))"
      ],
      "metadata": {
        "colab": {
          "base_uri": "https://localhost:8080/"
        },
        "id": "IDhcKpK60og6",
        "outputId": "be8ba14e-3473-4027-f823-0fafd0d52091"
      },
      "execution_count": null,
      "outputs": [
        {
          "output_type": "stream",
          "name": "stdout",
          "text": [
            "tf.Tensor([1. 2. 3. 4. 5.], shape=(5,), dtype=float32)\n",
            "tf.Tensor([10.], shape=(1,), dtype=float32)\n",
            "(8, 5) (5,) (1,)\n",
            "X(shape/dtype/data): (8, 5) / <dtype: 'float32'>\n",
            "[[-1.3654873  -2.7664077  -0.10707333  1.251496   -1.4663501 ]\n",
            " [ 1.2012979   2.0989676  -1.4181365  -0.42358673  0.5855257 ]\n",
            " [ 0.6203425   1.8839082   1.4766467   0.07159737 -0.06615648]\n",
            " [ 0.8836731  -0.18345691  0.6712433   1.1393728   0.01310209]\n",
            " [-0.05222293  0.8246089  -0.13729484 -1.4108541   1.2882141 ]\n",
            " [-0.7859492  -2.4499767   1.387347    0.59659684 -0.2983556 ]\n",
            " [ 1.0074149   0.21845025  1.0463079   0.21500759  1.001264  ]\n",
            " [-0.37048265 -1.0944635   0.67037976 -0.73305315 -1.6321698 ]]\n",
            "Y(shape/dtype/data): (8,) / <dtype: 'float32'>\n",
            "[ 0.45471   12.378105  18.773706  17.153492  11.982764   9.370748\n",
            " 20.449589  -1.6413326]\n"
          ]
        }
      ]
    },
    {
      "cell_type": "markdown",
      "source": [
        "## Code.4-1-2: Dataset for Binary Classification"
      ],
      "metadata": {
        "id": "65XmCNxuz_lX"
      }
    },
    {
      "cell_type": "code",
      "source": [
        "import tensorflow as tf"
      ],
      "metadata": {
        "id": "-74dvgqr0DPz"
      },
      "execution_count": null,
      "outputs": []
    },
    {
      "cell_type": "code",
      "source": [
        "N, n_feature = 8, 5\n",
        "t_weights = tf.constant([1, 2, 3, 4, 5], dtype=tf.float32)\n",
        "t_bias = tf.constant([10], dtype=tf.float32)\n",
        "\n",
        "X = tf.random.normal(mean=0, stddev=1, shape=(N, n_feature))\n",
        "Y = tf.reduce_sum(t_weights * X, axis=1)  + t_bias\n",
        "print(Y)\n",
        "Y = Y > 5\n",
        "print(Y)\n",
        "Y = tf.cast(Y, tf.int32)\n",
        "print(Y)\n",
        "print(\"=\" * 60)\n",
        "print(\"X(shape/dtype/data): {} / {}\\n{}\".format(X.shape, X.dtype, X.numpy()))\n",
        "print(\"Y(shape/dtype/data): {} / {}\\n{}\".format(Y.shape, Y.dtype, Y.numpy()))"
      ],
      "metadata": {
        "colab": {
          "base_uri": "https://localhost:8080/"
        },
        "id": "kc-YeOYu2gmQ",
        "outputId": "c7d1962a-a72b-4196-d28d-985e8dba00fa"
      },
      "execution_count": null,
      "outputs": [
        {
          "output_type": "stream",
          "name": "stdout",
          "text": [
            "tf.Tensor(\n",
            "[15.412625   9.10476   13.071841   0.5981102  9.188585  11.609664\n",
            " 16.828629  10.356081 ], shape=(8,), dtype=float32)\n",
            "tf.Tensor([ True  True  True False  True  True  True  True], shape=(8,), dtype=bool)\n",
            "tf.Tensor([1 1 1 0 1 1 1 1], shape=(8,), dtype=int32)\n",
            "============================================================\n",
            "X(shape/dtype/data): (8, 5) / <dtype: 'float32'>\n",
            "[[-0.17524023  0.85945296 -1.3599676  -0.28904188  1.8210061 ]\n",
            " [-0.6682548  -0.42388666  0.3284389   0.34603316 -0.3497322 ]\n",
            " [ 0.2748071  -0.74806243  0.3061695  -0.7944874   1.3105199 ]\n",
            " [-0.5782906  -1.0370731  -0.4799239  -0.58213943 -0.5962248 ]\n",
            " [-0.46889886  1.4817132  -0.5835278  -0.6014914   0.17012142]\n",
            " [-0.60697556  1.8718908   1.6479232  -1.7726274   0.12391952]\n",
            " [ 0.06310067  0.24444723  0.8870959   1.276237   -0.29792064]\n",
            " [-0.6603474   0.3809829   0.72173196 -1.1102608   0.5060619 ]]\n",
            "Y(shape/dtype/data): (8,) / <dtype: 'int32'>\n",
            "[1 1 1 0 1 1 1 1]\n"
          ]
        }
      ]
    },
    {
      "cell_type": "markdown",
      "source": [
        "## Code.4-1-3: Dataset for Multi-class Classification"
      ],
      "metadata": {
        "id": "SmvnoaHu0DnQ"
      }
    },
    {
      "cell_type": "code",
      "source": [
        "import tensorflow as tf\n",
        "import matplotlib.pyplot as plt\n",
        "\n",
        "plt.style.use('seaborn')"
      ],
      "metadata": {
        "id": "ZHvgum610HV6",
        "colab": {
          "base_uri": "https://localhost:8080/"
        },
        "outputId": "c99edca7-8c8d-4233-f042-f1846843ccd4"
      },
      "execution_count": 2,
      "outputs": [
        {
          "output_type": "stream",
          "name": "stderr",
          "text": [
            "<ipython-input-2-4df9ac8b92a5>:4: MatplotlibDeprecationWarning: The seaborn styles shipped by Matplotlib are deprecated since 3.6, as they no longer correspond to the styles shipped by seaborn. However, they will remain available as 'seaborn-v0_8-<style>'. Alternatively, directly use the seaborn API instead.\n",
            "  plt.style.use('seaborn')\n"
          ]
        }
      ]
    },
    {
      "cell_type": "code",
      "source": [
        "N, n_feature = 30, 2\n",
        "n_class = 5\n",
        "\n",
        "X = tf.zeros(shape=(0, n_feature))\n",
        "Y = tf.zeros(shape=(0,1), dtype=tf.int32)\n",
        "\n",
        "fig, ax = plt.subplots(figsize=(5,5))\n",
        "for class_idx in range(n_class):\n",
        "    center = tf.random.uniform(minval=-15, maxval=15, shape=(2,))\n",
        "    # print(center)\n",
        "    # ax.scatter(center[0], center[1])\n",
        "\n",
        "    x1 = center[0] + tf.random.normal(shape=(N, 1))\n",
        "    x2 = center[1] + tf.random.normal(shape=(N, 1))\n",
        "\n",
        "    # ax.scatter(x1.numpy(), x2.numpy())\n",
        "\n",
        "    x = tf.concat((x1, x2), axis=1)\n",
        "    y = class_idx * tf.ones(shape=(N, 1), dtype=tf.int32)\n",
        "    # print(x.shape, y.shape)\n",
        "\n",
        "    ax.scatter(x[:, 0].numpy(), x[:, 1].numpy(), alpha=0.3)\n",
        "\n",
        "    X = tf.concat((X, x), axis=0)\n",
        "    Y = tf.concat((Y, y), axis=0)\n",
        "\n",
        "    print(X.shape, Y.shape)\n",
        "\n",
        "print(\"X(shape/dtype/data): {} / {}\\n{}\".format(X.shape, X.dtype, X.numpy()))\n",
        "print(\"Y(shape/dtype/data): {} / {}\\n{}\".format(Y.shape, Y.dtype, Y.numpy()))"
      ],
      "metadata": {
        "colab": {
          "base_uri": "https://localhost:8080/",
          "height": 1000
        },
        "id": "L71R18LCbh5G",
        "outputId": "316b4bf0-10df-4583-aa45-4f4ba4972840"
      },
      "execution_count": 13,
      "outputs": [
        {
          "output_type": "stream",
          "name": "stdout",
          "text": [
            "(30, 2) (30, 1)\n",
            "(60, 2) (60, 1)\n",
            "(90, 2) (90, 1)\n",
            "(120, 2) (120, 1)\n",
            "(150, 2) (150, 1)\n",
            "X(shape/dtype/data): (150, 2) / <dtype: 'float32'>\n",
            "[[  3.2747378    3.5189223 ]\n",
            " [  2.6920316    5.366549  ]\n",
            " [  2.293548     5.489843  ]\n",
            " [  2.698794     6.7257857 ]\n",
            " [  2.7852378    4.120205  ]\n",
            " [  0.9422637    4.5821533 ]\n",
            " [  1.8241351    4.874634  ]\n",
            " [  3.458654     4.8460703 ]\n",
            " [  1.7337353    6.1449943 ]\n",
            " [  3.7704575    4.9067492 ]\n",
            " [  2.8907442    6.3164573 ]\n",
            " [  2.9862022    5.9064894 ]\n",
            " [  2.2994158    6.2352967 ]\n",
            " [  2.8174698    5.0468645 ]\n",
            " [  1.7530155    7.023701  ]\n",
            " [  0.60580957   5.382739  ]\n",
            " [  2.3018866    5.537049  ]\n",
            " [  3.6291358    4.8853498 ]\n",
            " [  1.2650563    5.921506  ]\n",
            " [  4.125897     5.070987  ]\n",
            " [  2.3741257    5.308809  ]\n",
            " [  1.3966513    7.131217  ]\n",
            " [  1.5488056    3.810272  ]\n",
            " [  2.524993     6.051794  ]\n",
            " [  0.64674604   6.592613  ]\n",
            " [  2.8497665    5.8018312 ]\n",
            " [  2.421826     5.781193  ]\n",
            " [  3.334679     5.5667906 ]\n",
            " [  2.2721407    5.100932  ]\n",
            " [  3.7043364    5.2886987 ]\n",
            " [ -8.529453   -10.382151  ]\n",
            " [ -7.0885096  -10.273832  ]\n",
            " [ -5.2896852   -9.484058  ]\n",
            " [ -5.671364    -9.883368  ]\n",
            " [ -5.344859    -9.267372  ]\n",
            " [ -7.5151405   -9.907199  ]\n",
            " [ -7.3924747  -10.889959  ]\n",
            " [ -6.6240644  -11.638535  ]\n",
            " [ -6.081627    -8.929986  ]\n",
            " [ -6.8028154   -9.545318  ]\n",
            " [ -5.0004177  -12.2333355 ]\n",
            " [ -6.6813755  -12.324291  ]\n",
            " [ -7.5646715   -9.039555  ]\n",
            " [ -7.03824     -9.658552  ]\n",
            " [ -4.7697506  -10.435475  ]\n",
            " [ -6.3455286  -10.177499  ]\n",
            " [ -7.158749   -10.118335  ]\n",
            " [ -6.8873825  -10.422406  ]\n",
            " [ -6.9051185   -9.554697  ]\n",
            " [ -6.145541    -9.728352  ]\n",
            " [ -7.0067883   -9.198992  ]\n",
            " [ -5.7016554   -9.507042  ]\n",
            " [ -6.44849    -10.811393  ]\n",
            " [ -5.430227    -9.683324  ]\n",
            " [ -3.6674163  -10.282658  ]\n",
            " [ -6.226918    -9.411025  ]\n",
            " [ -6.672887    -8.970829  ]\n",
            " [ -5.6625943   -9.333841  ]\n",
            " [ -7.19649    -10.501747  ]\n",
            " [ -5.945273   -11.904186  ]\n",
            " [  7.787692    13.4091    ]\n",
            " [ 10.055877    13.115716  ]\n",
            " [  8.775597    11.594696  ]\n",
            " [  9.209063    14.359594  ]\n",
            " [  7.764985    16.59545   ]\n",
            " [  7.6598654   13.972457  ]\n",
            " [  8.493214    13.552871  ]\n",
            " [  9.362683    14.033802  ]\n",
            " [  9.870451    12.18885   ]\n",
            " [  8.311813    13.054151  ]\n",
            " [  7.892848    13.80493   ]\n",
            " [  8.220444    12.942852  ]\n",
            " [  9.910349    12.7616825 ]\n",
            " [  7.999904    11.799456  ]\n",
            " [  9.161352    13.385932  ]\n",
            " [  6.8526287   12.272728  ]\n",
            " [  9.328058    12.760427  ]\n",
            " [  7.5498433   15.218879  ]\n",
            " [  7.3278403   12.807057  ]\n",
            " [  9.014929    12.944217  ]\n",
            " [ 11.040483    14.032033  ]\n",
            " [  9.091125    14.343835  ]\n",
            " [  6.5613112   12.463118  ]\n",
            " [  8.893951    12.612091  ]\n",
            " [  9.120808    13.721175  ]\n",
            " [  9.358775    13.552984  ]\n",
            " [  7.061643    13.235727  ]\n",
            " [  7.299122    14.654875  ]\n",
            " [  7.3973184   14.36588   ]\n",
            " [  8.828065    12.835527  ]\n",
            " [ -2.6712565   12.930713  ]\n",
            " [ -0.7080226   12.505864  ]\n",
            " [ -1.2614923   13.720553  ]\n",
            " [ -0.64914274  13.420725  ]\n",
            " [ -0.6703346   13.7360935 ]\n",
            " [  0.6454129   12.02426   ]\n",
            " [ -0.53562045  11.793104  ]\n",
            " [ -0.4039323   12.140612  ]\n",
            " [ -1.0108961   13.111963  ]\n",
            " [  1.3288703   13.573583  ]\n",
            " [ -0.6962472   13.451987  ]\n",
            " [ -1.9253229   13.128767  ]\n",
            " [ -1.5439677   13.710103  ]\n",
            " [  1.1443605   11.238873  ]\n",
            " [ -1.0334767   13.40612   ]\n",
            " [ -0.28717673  13.097454  ]\n",
            " [ -1.8014553   15.849203  ]\n",
            " [ -0.08854723  13.105176  ]\n",
            " [ -0.05399793  14.135208  ]\n",
            " [ -1.3594098   13.608203  ]\n",
            " [ -1.0359957   12.623623  ]\n",
            " [ -2.3735538   12.671406  ]\n",
            " [ -0.322471    12.447495  ]\n",
            " [  0.19679439  14.504152  ]\n",
            " [  0.06698489  13.026011  ]\n",
            " [ -0.9675338   12.278309  ]\n",
            " [ -3.0100036   11.678832  ]\n",
            " [ -0.77035975  15.339785  ]\n",
            " [ -0.92009515  14.048744  ]\n",
            " [ -0.35566637  14.252756  ]\n",
            " [  2.257306    12.414267  ]\n",
            " [  5.435667    13.658861  ]\n",
            " [  3.5007014   13.788671  ]\n",
            " [  4.2402544   14.262781  ]\n",
            " [  3.8175783   12.669112  ]\n",
            " [  5.791765    12.673707  ]\n",
            " [  3.7464082   14.337152  ]\n",
            " [  4.062242    13.691098  ]\n",
            " [  4.436143    13.236582  ]\n",
            " [  4.738944    12.409544  ]\n",
            " [  4.31696     14.89974   ]\n",
            " [  5.3876224   13.178858  ]\n",
            " [  4.861014    11.864973  ]\n",
            " [  3.806928    12.431144  ]\n",
            " [  3.6706882   13.147049  ]\n",
            " [  3.5378532   14.453081  ]\n",
            " [  3.7143006   13.776737  ]\n",
            " [  2.8356447   14.250483  ]\n",
            " [  3.5709918   12.294146  ]\n",
            " [  4.2810817   12.463027  ]\n",
            " [  2.6538768   13.491133  ]\n",
            " [  3.4965932   14.268363  ]\n",
            " [  3.998447    12.089256  ]\n",
            " [  4.128332    12.43786   ]\n",
            " [  3.4762247   14.19848   ]\n",
            " [  3.0594482   14.607439  ]\n",
            " [  5.4165125   14.431189  ]\n",
            " [  4.2433114   13.738839  ]\n",
            " [  4.236068    12.689788  ]\n",
            " [  5.0935287   13.40849   ]]\n",
            "Y(shape/dtype/data): (150, 1) / <dtype: 'int32'>\n",
            "[[0]\n",
            " [0]\n",
            " [0]\n",
            " [0]\n",
            " [0]\n",
            " [0]\n",
            " [0]\n",
            " [0]\n",
            " [0]\n",
            " [0]\n",
            " [0]\n",
            " [0]\n",
            " [0]\n",
            " [0]\n",
            " [0]\n",
            " [0]\n",
            " [0]\n",
            " [0]\n",
            " [0]\n",
            " [0]\n",
            " [0]\n",
            " [0]\n",
            " [0]\n",
            " [0]\n",
            " [0]\n",
            " [0]\n",
            " [0]\n",
            " [0]\n",
            " [0]\n",
            " [0]\n",
            " [1]\n",
            " [1]\n",
            " [1]\n",
            " [1]\n",
            " [1]\n",
            " [1]\n",
            " [1]\n",
            " [1]\n",
            " [1]\n",
            " [1]\n",
            " [1]\n",
            " [1]\n",
            " [1]\n",
            " [1]\n",
            " [1]\n",
            " [1]\n",
            " [1]\n",
            " [1]\n",
            " [1]\n",
            " [1]\n",
            " [1]\n",
            " [1]\n",
            " [1]\n",
            " [1]\n",
            " [1]\n",
            " [1]\n",
            " [1]\n",
            " [1]\n",
            " [1]\n",
            " [1]\n",
            " [2]\n",
            " [2]\n",
            " [2]\n",
            " [2]\n",
            " [2]\n",
            " [2]\n",
            " [2]\n",
            " [2]\n",
            " [2]\n",
            " [2]\n",
            " [2]\n",
            " [2]\n",
            " [2]\n",
            " [2]\n",
            " [2]\n",
            " [2]\n",
            " [2]\n",
            " [2]\n",
            " [2]\n",
            " [2]\n",
            " [2]\n",
            " [2]\n",
            " [2]\n",
            " [2]\n",
            " [2]\n",
            " [2]\n",
            " [2]\n",
            " [2]\n",
            " [2]\n",
            " [2]\n",
            " [3]\n",
            " [3]\n",
            " [3]\n",
            " [3]\n",
            " [3]\n",
            " [3]\n",
            " [3]\n",
            " [3]\n",
            " [3]\n",
            " [3]\n",
            " [3]\n",
            " [3]\n",
            " [3]\n",
            " [3]\n",
            " [3]\n",
            " [3]\n",
            " [3]\n",
            " [3]\n",
            " [3]\n",
            " [3]\n",
            " [3]\n",
            " [3]\n",
            " [3]\n",
            " [3]\n",
            " [3]\n",
            " [3]\n",
            " [3]\n",
            " [3]\n",
            " [3]\n",
            " [3]\n",
            " [4]\n",
            " [4]\n",
            " [4]\n",
            " [4]\n",
            " [4]\n",
            " [4]\n",
            " [4]\n",
            " [4]\n",
            " [4]\n",
            " [4]\n",
            " [4]\n",
            " [4]\n",
            " [4]\n",
            " [4]\n",
            " [4]\n",
            " [4]\n",
            " [4]\n",
            " [4]\n",
            " [4]\n",
            " [4]\n",
            " [4]\n",
            " [4]\n",
            " [4]\n",
            " [4]\n",
            " [4]\n",
            " [4]\n",
            " [4]\n",
            " [4]\n",
            " [4]\n",
            " [4]]\n"
          ]
        },
        {
          "output_type": "display_data",
          "data": {
            "text/plain": [
              "<Figure size 500x500 with 1 Axes>"
            ],
            "image/png": "[encoded data removed]"
          },
          "metadata": {}
        }
      ]
    },
    {
      "cell_type": "markdown",
      "source": [
        "## Code.4-1-4: Dataset for Multi-class Classification with One-hot Encoding"
      ],
      "metadata": {
        "id": "3LPBWsZDdSab"
      }
    },
    {
      "cell_type": "code",
      "source": [
        "import tensorflow as tf\n",
        "import matplotlib.pyplot as plt\n",
        "\n",
        "plt.style.use('seaborn')"
      ],
      "metadata": {
        "id": "WMfSVaL3deOJ"
      },
      "execution_count": null,
      "outputs": []
    },
    {
      "cell_type": "code",
      "source": [
        "N, n_feature = 8, 2\n",
        "n_class = 3\n",
        "\n",
        "X = tf.zeros(shape=(0, n_feature))\n",
        "Y = tf.zeros(shape=(0,1), dtype=tf.int32)\n",
        "\n",
        "fig, ax = plt.subplots(figsize=(5,5))\n",
        "for class_idx in range(n_class):\n",
        "    center = tf.random.uniform(minval=-15, maxval=15, shape=(2,))\n",
        "\n",
        "    x1 = center[0] + tf.random.normal(shape=(N, 1))\n",
        "    x2 = center[1] + tf.random.normal(shape=(N, 1))\n",
        "\n",
        "    x = tf.concat((x1, x2), axis=1)\n",
        "    y = class_idx * tf.ones(shape=(N, 1), dtype=tf.int32)\n",
        "\n",
        "    ax.scatter(x[:, 0].numpy(), x[:, 1].numpy(), alpha=0.3)\n",
        "\n",
        "    X = tf.concat((X, x), axis=0)\n",
        "    Y = tf.concat((Y, y), axis=0)\n",
        "\n",
        "Y = tf.one_hot(Y, depth=n_class, dtype=tf.int32)\n",
        "print(\"X(shape/dtype/data): {} / {}\\n{}\".format(X.shape, X.dtype, X.numpy()))\n",
        "print(\"Y(shape/dtype/data): {} / {}\\n{}\".format(Y.shape, Y.dtype, Y.numpy()))"
      ],
      "metadata": {
        "colab": {
          "base_uri": "https://localhost:8080/",
          "height": 1000
        },
        "id": "IMLMP9_sdXGT",
        "outputId": "e55ced06-5f0f-4556-9bc0-484be009430e"
      },
      "execution_count": 15,
      "outputs": [
        {
          "output_type": "stream",
          "name": "stdout",
          "text": [
            "X(shape/dtype/data): (24, 2) / <dtype: 'float32'>\n",
            "[[11.052291   12.901158  ]\n",
            " [10.070806   13.826049  ]\n",
            " [11.166074   15.421711  ]\n",
            " [ 9.960989   16.026602  ]\n",
            " [11.26992    14.697543  ]\n",
            " [11.624653   12.551137  ]\n",
            " [11.8450165  13.913105  ]\n",
            " [10.705772   13.676274  ]\n",
            " [-7.788652   -8.6586895 ]\n",
            " [-7.954535   -6.3248844 ]\n",
            " [-6.424734   -6.576367  ]\n",
            " [-5.476255   -8.346607  ]\n",
            " [-7.2032275  -6.982114  ]\n",
            " [-7.0837874  -7.372955  ]\n",
            " [-9.441562   -9.419685  ]\n",
            " [-9.464416   -9.531626  ]\n",
            " [-3.3482757  -1.0937474 ]\n",
            " [-4.128276   -0.10970426]\n",
            " [-3.432871   -0.90434945]\n",
            " [-3.1716306  -2.136978  ]\n",
            " [-4.5139875  -1.3031785 ]\n",
            " [-5.8273005  -3.267511  ]\n",
            " [-4.8633327  -1.5574479 ]\n",
            " [-1.9546185  -1.4077572 ]]\n",
            "Y(shape/dtype/data): (24, 1, 3) / <dtype: 'int32'>\n",
            "[[[1 0 0]]\n",
            "\n",
            " [[1 0 0]]\n",
            "\n",
            " [[1 0 0]]\n",
            "\n",
            " [[1 0 0]]\n",
            "\n",
            " [[1 0 0]]\n",
            "\n",
            " [[1 0 0]]\n",
            "\n",
            " [[1 0 0]]\n",
            "\n",
            " [[1 0 0]]\n",
            "\n",
            " [[0 1 0]]\n",
            "\n",
            " [[0 1 0]]\n",
            "\n",
            " [[0 1 0]]\n",
            "\n",
            " [[0 1 0]]\n",
            "\n",
            " [[0 1 0]]\n",
            "\n",
            " [[0 1 0]]\n",
            "\n",
            " [[0 1 0]]\n",
            "\n",
            " [[0 1 0]]\n",
            "\n",
            " [[0 0 1]]\n",
            "\n",
            " [[0 0 1]]\n",
            "\n",
            " [[0 0 1]]\n",
            "\n",
            " [[0 0 1]]\n",
            "\n",
            " [[0 0 1]]\n",
            "\n",
            " [[0 0 1]]\n",
            "\n",
            " [[0 0 1]]\n",
            "\n",
            " [[0 0 1]]]\n"
          ]
        },
        {
          "output_type": "display_data",
          "data": {
            "text/plain": [
              "<Figure size 500x500 with 1 Axes>"
            ],
            "image/png": "[encoded data removed]"
          },
          "metadata": {}
        }
      ]
    },
    {
      "cell_type": "markdown",
      "source": [
        "## Code.4-1-5: Dataset Objects"
      ],
      "metadata": {
        "id": "R-utYS9N0HwG"
      }
    },
    {
      "cell_type": "code",
      "source": [
        "N, n_feature = 100, 5\n",
        "batch_size = 32\n",
        "\n",
        "t_weights = tf.constant([1, 2, 3, 4, 5], dtype=tf.float32)\n",
        "t_bias = tf.constant([10], dtype=tf.float32)\n",
        "\n",
        "X = tf.random.normal(mean=0, stddev=1, shape=(N, n_feature))\n",
        "Y = tf.reduce_sum(t_weights * X, axis=1)  + t_bias\n",
        "\n",
        "print(N//batch_size)\n",
        "for batch_idx in range(N // batch_size):\n",
        "    x = X[batch_idx*batch_size : (batch_idx + 1)*batch_size, ...]\n",
        "    y = Y[batch_idx*batch_size : (batch_idx + 1)*batch_size, ...]\n",
        "    print(x.shape, y.shape)\n",
        "\n",
        "print(\"=\"*50)\n",
        "dataset = tf.data.Dataset.from_tensor_slices((X,Y))\n",
        "dataset = dataset.batch(batch_size).shuffle(100)\n",
        "\n",
        "for x, y in dataset:\n",
        "    print(x.shape, y.shape, y)"
      ],
      "metadata": {
        "id": "H0xoovtR0Jwj",
        "colab": {
          "base_uri": "https://localhost:8080/"
        },
        "outputId": "012d9a37-0f75-4b19-9ea8-f985423e19ad"
      },
      "execution_count": 22,
      "outputs": [
        {
          "output_type": "stream",
          "name": "stdout",
          "text": [
            "3\n",
            "(32, 5) (32,)\n",
            "(32, 5) (32,)\n",
            "(32, 5) (32,)\n",
            "==================================================\n",
            "(4, 5) (4,) tf.Tensor([23.584412   2.9687457  8.727778  29.643692 ], shape=(4,), dtype=float32)\n",
            "(32, 5) (32,) tf.Tensor(\n",
            "[ 8.381354   13.613382   21.415062   19.438421    5.9544053   4.701024\n",
            "  5.398046    5.022081    9.253098   -2.5006313   9.887778    5.8045444\n",
            " 18.612667    8.276098    3.425302    4.789778   10.91605     3.3462958\n",
            "  3.918273   13.546478   15.025563   22.781342   10.326496   10.841329\n",
            "  0.45532227 13.097161    6.1434803   9.761529    7.3376656   8.328072\n",
            " 24.1147      6.3489027 ], shape=(32,), dtype=float32)\n",
            "(32, 5) (32,) tf.Tensor(\n",
            "[16.5085     11.381197   13.595175    4.12557     8.648068   14.506685\n",
            "  3.6379242   8.898038    6.3038025   9.124594    8.010498   14.169579\n",
            " -1.0253544  12.11359    13.230925   -1.8502607  10.960938   10.285711\n",
            "  4.841258   13.169804    0.21165657 -0.09701157  9.049122   -1.4465218\n",
            "  6.820609   24.196062   20.212103   12.29339    11.518013   20.042564\n",
            "  9.220659    2.2108893 ], shape=(32,), dtype=float32)\n",
            "(32, 5) (32,) tf.Tensor(\n",
            "[12.565517  20.055286   7.181967   6.161661  -0.9417267  9.777341\n",
            " 11.172592   8.091692  12.041587  13.829801   6.535837  15.847397\n",
            " 15.846497  19.569923  -3.3337288 15.397907   5.4421544  4.33971\n",
            " 17.56411    7.0626035 16.777416  10.645756   8.982898   9.199159\n",
            " 16.75064   14.923362  -1.9147854  7.8949156 10.864933  18.302391\n",
            " 10.443488   5.486324 ], shape=(32,), dtype=float32)\n"
          ]
        }
      ]
    },
    {
      "cell_type": "code",
      "source": [],
      "metadata": {
        "id": "5W7GnPAVeSaT"
      },
      "execution_count": null,
      "outputs": []
    }
  ]
}