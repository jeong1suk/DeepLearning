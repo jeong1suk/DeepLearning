{
  "nbformat": 4,
  "nbformat_minor": 0,
  "metadata": {
    "colab": {
      "provenance": [],
      "authorship_tag": "ABX9TyNBUu+gUg/YwJMT6JruvrAX",
      "include_colab_link": true
    },
    "kernelspec": {
      "name": "python3",
      "display_name": "Python 3"
    },
    "language_info": {
      "name": "python"
    }
  },
  "cells": [
    {
      "cell_type": "markdown",
      "metadata": {
        "id": "view-in-github",
        "colab_type": "text"
      },
      "source": [
        "<a href=\"https://colab.research.google.com/github/jeong1suk/DeepLearning/blob/math/%EB%94%A5%EB%9F%AC%EB%8B%9D%20%EB%84%A4%ED%8A%B8%EC%9B%8C%ED%81%AC%EC%9D%98%20%EC%97%B0%EC%82%B0/04_Loss_function.ipynb\" target=\"_parent\"><img src=\"https://colab.research.google.com/assets/colab-badge.svg\" alt=\"Open In Colab\"/></a>"
      ]
    },
    {
      "cell_type": "markdown",
      "source": [
        "# 4-1: Datasets"
      ],
      "metadata": {
        "id": "U65YeaLbz3f0"
      }
    },
    {
      "cell_type": "markdown",
      "source": [
        "## Code.4-1-1-: Dataset for Regression"
      ],
      "metadata": {
        "id": "YqYxL1Atz5Wz"
      }
    },
    {
      "cell_type": "code",
      "execution_count": 1,
      "metadata": {
        "id": "fzHBPgjazkM-"
      },
      "outputs": [],
      "source": [
        "import tensorflow as tf"
      ]
    },
    {
      "cell_type": "code",
      "source": [
        "N, n_feature = 8, 5\n",
        "t_weights = tf.constant([1, 2, 3, 4, 5], dtype=tf.float32)\n",
        "t_bias = tf.constant([10], dtype=tf.float32)\n",
        "\n",
        "print(t_weights)\n",
        "print(t_bias)\n",
        "\n",
        "X = tf.random.normal(mean=0, stddev=1, shape=(N, n_feature))\n",
        "\n",
        "print(X.shape, t_weights.shape, t_bias.shape)\n",
        "\n",
        "Y = tf.reduce_sum(t_weights * X, axis=1)  + t_bias\n",
        "print(\"X(shape/dtype/data): {} / {}\\n{}\".format(X.shape, X.dtype, X.numpy()))\n",
        "print(\"Y(shape/dtype/data): {} / {}\\n{}\".format(Y.shape, Y.dtype, Y.numpy()))"
      ],
      "metadata": {
        "colab": {
          "base_uri": "https://localhost:8080/"
        },
        "id": "IDhcKpK60og6",
        "outputId": "be8ba14e-3473-4027-f823-0fafd0d52091"
      },
      "execution_count": 11,
      "outputs": [
        {
          "output_type": "stream",
          "name": "stdout",
          "text": [
            "tf.Tensor([1. 2. 3. 4. 5.], shape=(5,), dtype=float32)\n",
            "tf.Tensor([10.], shape=(1,), dtype=float32)\n",
            "(8, 5) (5,) (1,)\n",
            "X(shape/dtype/data): (8, 5) / <dtype: 'float32'>\n",
            "[[-1.3654873  -2.7664077  -0.10707333  1.251496   -1.4663501 ]\n",
            " [ 1.2012979   2.0989676  -1.4181365  -0.42358673  0.5855257 ]\n",
            " [ 0.6203425   1.8839082   1.4766467   0.07159737 -0.06615648]\n",
            " [ 0.8836731  -0.18345691  0.6712433   1.1393728   0.01310209]\n",
            " [-0.05222293  0.8246089  -0.13729484 -1.4108541   1.2882141 ]\n",
            " [-0.7859492  -2.4499767   1.387347    0.59659684 -0.2983556 ]\n",
            " [ 1.0074149   0.21845025  1.0463079   0.21500759  1.001264  ]\n",
            " [-0.37048265 -1.0944635   0.67037976 -0.73305315 -1.6321698 ]]\n",
            "Y(shape/dtype/data): (8,) / <dtype: 'float32'>\n",
            "[ 0.45471   12.378105  18.773706  17.153492  11.982764   9.370748\n",
            " 20.449589  -1.6413326]\n"
          ]
        }
      ]
    },
    {
      "cell_type": "markdown",
      "source": [
        "## Code.4-1-2: Dataset for Binary Classification"
      ],
      "metadata": {
        "id": "65XmCNxuz_lX"
      }
    },
    {
      "cell_type": "code",
      "source": [
        "import tensorflow as tf"
      ],
      "metadata": {
        "id": "-74dvgqr0DPz"
      },
      "execution_count": null,
      "outputs": []
    },
    {
      "cell_type": "code",
      "source": [
        "N, n_feature = 8, 5\n",
        "t_weights = tf.constant([1, 2, 3, 4, 5], dtype=tf.float32)\n",
        "t_bias = tf.constant([10], dtype=tf.float32)\n",
        "\n",
        "X = tf.random.normal(mean=0, stddev=1, shape=(N, n_feature))\n",
        "Y = tf.reduce_sum(t_weights * X, axis=1)  + t_bias\n",
        "print(Y)\n",
        "Y = Y > 5\n",
        "print(Y)\n",
        "Y = tf.cast(Y, tf.int32)\n",
        "print(Y)\n",
        "print(\"=\" * 60)\n",
        "print(\"X(shape/dtype/data): {} / {}\\n{}\".format(X.shape, X.dtype, X.numpy()))\n",
        "print(\"Y(shape/dtype/data): {} / {}\\n{}\".format(Y.shape, Y.dtype, Y.numpy()))"
      ],
      "metadata": {
        "colab": {
          "base_uri": "https://localhost:8080/"
        },
        "id": "kc-YeOYu2gmQ",
        "outputId": "c7d1962a-a72b-4196-d28d-985e8dba00fa"
      },
      "execution_count": 20,
      "outputs": [
        {
          "output_type": "stream",
          "name": "stdout",
          "text": [
            "tf.Tensor(\n",
            "[15.412625   9.10476   13.071841   0.5981102  9.188585  11.609664\n",
            " 16.828629  10.356081 ], shape=(8,), dtype=float32)\n",
            "tf.Tensor([ True  True  True False  True  True  True  True], shape=(8,), dtype=bool)\n",
            "tf.Tensor([1 1 1 0 1 1 1 1], shape=(8,), dtype=int32)\n",
            "============================================================\n",
            "X(shape/dtype/data): (8, 5) / <dtype: 'float32'>\n",
            "[[-0.17524023  0.85945296 -1.3599676  -0.28904188  1.8210061 ]\n",
            " [-0.6682548  -0.42388666  0.3284389   0.34603316 -0.3497322 ]\n",
            " [ 0.2748071  -0.74806243  0.3061695  -0.7944874   1.3105199 ]\n",
            " [-0.5782906  -1.0370731  -0.4799239  -0.58213943 -0.5962248 ]\n",
            " [-0.46889886  1.4817132  -0.5835278  -0.6014914   0.17012142]\n",
            " [-0.60697556  1.8718908   1.6479232  -1.7726274   0.12391952]\n",
            " [ 0.06310067  0.24444723  0.8870959   1.276237   -0.29792064]\n",
            " [-0.6603474   0.3809829   0.72173196 -1.1102608   0.5060619 ]]\n",
            "Y(shape/dtype/data): (8,) / <dtype: 'int32'>\n",
            "[1 1 1 0 1 1 1 1]\n"
          ]
        }
      ]
    },
    {
      "cell_type": "markdown",
      "source": [
        "## Code.4-1-3: Dataset for Multi-class Classification"
      ],
      "metadata": {
        "id": "SmvnoaHu0DnQ"
      }
    },
    {
      "cell_type": "code",
      "source": [],
      "metadata": {
        "id": "ZHvgum610HV6"
      },
      "execution_count": null,
      "outputs": []
    },
    {
      "cell_type": "markdown",
      "source": [
        "## Code.4-1-4: Dataset Objects"
      ],
      "metadata": {
        "id": "R-utYS9N0HwG"
      }
    },
    {
      "cell_type": "code",
      "source": [],
      "metadata": {
        "id": "H0xoovtR0Jwj"
      },
      "execution_count": null,
      "outputs": []
    }
  ]
}