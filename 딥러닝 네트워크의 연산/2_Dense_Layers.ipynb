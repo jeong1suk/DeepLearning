{
  "nbformat": 4,
  "nbformat_minor": 0,
  "metadata": {
    "colab": {
      "provenance": [],
      "collapsed_sections": [
        "6nxy3M5bcK_h"
      ],
      "authorship_tag": "ABX9TyMYiQD0T5j6ftQGDc43Dcq7",
      "include_colab_link": true
    },
    "kernelspec": {
      "name": "python3",
      "display_name": "Python 3"
    },
    "language_info": {
      "name": "python"
    }
  },
  "cells": [
    {
      "cell_type": "markdown",
      "metadata": {
        "id": "view-in-github",
        "colab_type": "text"
      },
      "source": [
        "<a href=\"https://colab.research.google.com/github/jeong1suk/DeepLearning/blob/math/%EB%94%A5%EB%9F%AC%EB%8B%9D%20%EB%84%A4%ED%8A%B8%EC%9B%8C%ED%81%AC%EC%9D%98%20%EC%97%B0%EC%82%B0/Dense_Layers.ipynb\" target=\"_parent\"><img src=\"https://colab.research.google.com/assets/colab-badge.svg\" alt=\"Open In Colab\"/></a>"
      ]
    },
    {
      "cell_type": "markdown",
      "source": [
        "# 2-1: Dense Layers"
      ],
      "metadata": {
        "id": "6nxy3M5bcK_h"
      }
    },
    {
      "cell_type": "markdown",
      "source": [
        "## Code.2-1-1: Shapes of Dense Layers"
      ],
      "metadata": {
        "id": "cxNgzX2HcNdC"
      }
    },
    {
      "cell_type": "code",
      "execution_count": null,
      "metadata": {
        "id": "f2kwJCnncH5T"
      },
      "outputs": [],
      "source": [
        "import numpy as np\n",
        "import tensorflow as tf\n",
        "from tensorflow.keras.layers import Dense\n",
        "\n",
        "from tensorflow.math import exp\n",
        "from tensorflow.linalg import matmul\n"
      ]
    },
    {
      "cell_type": "code",
      "source": [
        "N, n_feature = 1, 10\n",
        "X = tf.random.normal(shape=(N, n_feature))\n",
        "\n",
        "n_neuron = 3\n",
        "dense = Dense(units=n_neuron, activation=\"sigmoid\")\n",
        "Y = dense(X)\n",
        "\n",
        "W, B = dense.get_weights()\n",
        "\n",
        "print(\"==== Input/Weight/Bias ====\")\n",
        "print(\"X: \", X.shape)\n",
        "print(\"W: \", W.shape)\n",
        "print(\"B: \", B.shape)\n",
        "print(\"Y: \", Y.shape)\n",
        "\n",
        "print(W)"
      ],
      "metadata": {
        "id": "NdXZNZ9GcVEV"
      },
      "execution_count": null,
      "outputs": []
    },
    {
      "cell_type": "code",
      "source": [
        "N, n_feature = 8, 10\n",
        "X = tf.random.normal(shape=(N, n_feature))\n",
        "\n",
        "n_neuron = 3\n",
        "dense = Dense(units=n_neuron, activation=\"sigmoid\")\n",
        "Y = dense(X)\n",
        "\n",
        "W, B = dense.get_weights()\n",
        "\n",
        "print(\"==== Input/Weight/Bias ====\")\n",
        "print(\"X: \", X.shape)\n",
        "print(\"W: \", W.shape)\n",
        "print(\"B: \", B.shape)\n",
        "print(\"Y: \", Y.shape)"
      ],
      "metadata": {
        "id": "orglFzYmdCXn"
      },
      "execution_count": null,
      "outputs": []
    },
    {
      "cell_type": "code",
      "source": [
        "N, n_feature = 4, 10\n",
        "X = tf.random.normal(shape=(N, n_feature))\n",
        "\n",
        "n_neuron = 3\n",
        "dense = Dense(units=n_neuron, activation=\"sigmoid\")\n",
        "Y_tf = dense(X)\n",
        "\n",
        "W, B = dense.get_weights()\n",
        "print(\"Y(Tensorflow): \\n\", Y_tf.numpy())\n",
        "\n",
        "# calculate with matrix multiplication\n",
        "Z = matmul(X, W) + B\n",
        "Y_man_matmul = 1 / (1 + exp(-Z))\n",
        "print(\"Y(with matrix multiplication): \\n\", Y_man_matmul)\n",
        "\n",
        "# calculate with dot product\n",
        "Y_man_vec = np.zeros(shape=(N, n_neuron))\n",
        "\n",
        "for x_idx in range(N):\n",
        "    x = X[x_idx]\n",
        "\n",
        "    for nu_idx in range(n_neuron):\n",
        "        w, b = W[:, nu_idx], B[nu_idx]\n",
        "\n",
        "        z = tf.reduce_sum(x * w) + b\n",
        "        a = 1 / (1 + np.exp(-z))\n",
        "        Y_man_vec[x_idx, nu_idx] = a\n",
        "\n",
        "print(\"Y(with dot product): \\n\", Y_man_vec)"
      ],
      "metadata": {
        "id": "lSHNutEqdM2X"
      },
      "execution_count": null,
      "outputs": []
    },
    {
      "cell_type": "markdown",
      "source": [
        "# 2-2: Cascaded Dense Layers"
      ],
      "metadata": {
        "id": "ja2Mq4TY6zWc"
      }
    },
    {
      "cell_type": "markdown",
      "source": [
        "## Code.2-2-1: Shapes of Cascaded Dense Layers"
      ],
      "metadata": {
        "id": "SCHam7PT62YL"
      }
    },
    {
      "cell_type": "code",
      "source": [
        "import tensorflow as tf\n",
        "from tensorflow.keras.layers import Dense\n",
        "\n",
        "N, n_feature = 4, 10\n",
        "X = tf.random.normal(shape=(N, n_feature))\n",
        "\n",
        "n_neurons = [3, 5]\n",
        "dense1 = Dense(units=n_neurons[0], activation='sigmoid')\n",
        "dense2 = Dense(units=n_neurons[1], activation='sigmoid')\n",
        "\n",
        "# forward propagation\n",
        "A1 = dense1(X)\n",
        "Y = dense2(A1)\n",
        "\n",
        "# get weight/bias\n",
        "W1, B1 = dense1.get_weights()\n",
        "W2, B2 = dense2.get_weights()\n",
        "\n",
        "print(\"X: {}\\n\".format(X.shape))\n",
        "\n",
        "print(\"W1: \", W1.shape)\n",
        "print(\"B1: \", B1.shape)\n",
        "print(\"A1: {}\\n\".format(A1.shape))\n",
        "\n",
        "print(\"W2: \", W2.shape)\n",
        "print(\"B2: \", B2.shape)\n",
        "print(\"Y: {}\\n\".format(Y.shape))"
      ],
      "metadata": {
        "id": "sGQ7h_Bvdqkc"
      },
      "execution_count": null,
      "outputs": []
    },
    {
      "cell_type": "markdown",
      "source": [
        "## Code.2-2-2: Dense Layers with Python List"
      ],
      "metadata": {
        "id": "GBYQVume7-Xl"
      }
    },
    {
      "cell_type": "code",
      "source": [
        "import tensorflow as tf\n",
        "from tensorflow.keras.layers import Dense\n",
        "\n",
        "N, n_feature = 4, 10\n",
        "X = tf.random.normal(shape=(N, n_feature))\n",
        "\n",
        "n_neurons = [10, 20, 30, 40, 50, 60 ,70 ,80, 90, 100]\n",
        "\n",
        "dense_layers = list()\n",
        "for n_neuron in n_neurons:\n",
        "    dense = Dense(units=n_neuron, activation='relu')\n",
        "    dense_layers.append(dense)\n",
        "\n",
        "print(\"Input: \", X.shape)\n",
        "for dense_idx, dense in enumerate(dense_layers):\n",
        "    X = dense(X)\n",
        "    print(\"After dense layer \", dense_idx+1)\n",
        "    print(X.shape, '\\n')\n"
      ],
      "metadata": {
        "id": "xFylxMMY7YZD"
      },
      "execution_count": null,
      "outputs": []
    },
    {
      "cell_type": "markdown",
      "source": [
        "## Code.2-2-3: Output Calculations"
      ],
      "metadata": {
        "id": "JXZJ4kZz9KAy"
      }
    },
    {
      "cell_type": "code",
      "source": [
        "import tensorflow as tf\n",
        "\n",
        "from tensorflow.math import exp\n",
        "from tensorflow.linalg import matmul\n",
        "\n",
        "from tensorflow.keras.layers import Dense\n",
        "\n",
        "N, n_feature = 4, 10\n",
        "X = tf.random.normal(shape=(N, n_feature))\n",
        "X_cp = tf.identity(X)\n",
        "\n",
        "n_neurons = [3, 4, 5]\n",
        "\n",
        "dense_layers = list()\n",
        "for n_neuron in n_neurons:\n",
        "    dense = Dense(units=n_neuron, activation='sigmoid')\n",
        "    dense_layers.append(dense)\n",
        "\n",
        "# forward propagation(Tensorflow)\n",
        "W, B = list(), list()\n",
        "for dense_idx, dense in enumerate(dense_layers):\n",
        "    X = dense(X)\n",
        "    w, b = dense.get_weights()\n",
        "\n",
        "    W.append(w)\n",
        "    B.append(b)\n",
        "\n",
        "print(\"Y(Tensorflow): \\n\", X.numpy())\n",
        "\n",
        "# forward propagation(Manual)\n",
        "for layer_idx in range(len(n_neurons)):\n",
        "    w, b = W[layer_idx], B[layer_idx]\n",
        "\n",
        "    X_cp = matmul(X_cp, w) + b\n",
        "    X_cp = 1 / (1 + exp(-X_cp))\n",
        "\n",
        "print(\"Y(Manual): \\n\", X_cp.numpy())"
      ],
      "metadata": {
        "id": "XU5HA3P-8UX6"
      },
      "execution_count": null,
      "outputs": []
    },
    {
      "cell_type": "markdown",
      "source": [
        "# 2-3: Model Implementation"
      ],
      "metadata": {
        "id": "1GAT3bmL7IB1"
      }
    },
    {
      "cell_type": "markdown",
      "source": [
        "## Code.2-3-1: Model Implementation with Sequential Method"
      ],
      "metadata": {
        "id": "eyoa19jO7SoV"
      }
    },
    {
      "cell_type": "code",
      "source": [
        "from tensorflow.keras.layers import Dense\n",
        "from tensorflow.keras.models import Sequential\n",
        "\n",
        "model = Sequential()\n",
        "model.add(Dense(units=10, activation='sigmoid'))\n",
        "model.add(Dense(units=20, activation='sigmoid'))"
      ],
      "metadata": {
        "id": "p8i4EtPI7LP9"
      },
      "execution_count": null,
      "outputs": []
    },
    {
      "cell_type": "markdown",
      "source": [
        "## Code.2-3-2: Model Implementation with Model-subclassing"
      ],
      "metadata": {
        "id": "DIS83A438YW6"
      }
    },
    {
      "cell_type": "code",
      "source": [
        "from tensorflow.keras.layers import Dense\n",
        "from tensorflow.keras.models import Model\n",
        "\n",
        "class TestModel(Model):\n",
        "    def __init__(self):\n",
        "        super(TestModel, self).__init__()\n",
        "\n",
        "        self.dense1 = Dense(units=10, activation='sigmoid')\n",
        "        self.dense2 = Dense(units=20, activation='sigmoid')\n",
        "\n",
        "model = TestModel()\n",
        "print(model.dense1)\n",
        "print(model.dense2)"
      ],
      "metadata": {
        "colab": {
          "base_uri": "https://localhost:8080/"
        },
        "id": "2fpdZ8Cf8byE",
        "outputId": "6e59be06-88fa-4143-9483-5415485577f6"
      },
      "execution_count": 1,
      "outputs": [
        {
          "output_type": "stream",
          "name": "stdout",
          "text": [
            "<keras.src.layers.core.dense.Dense object at 0x78d8ebb57940>\n",
            "<keras.src.layers.core.dense.Dense object at 0x78d8ebbb0640>\n"
          ]
        }
      ]
    },
    {
      "cell_type": "markdown",
      "source": [
        "## Code.2-3-3: Forward Propagation of Models"
      ],
      "metadata": {
        "id": "uViswJS49DR8"
      }
    },
    {
      "cell_type": "code",
      "source": [
        "import tensorflow as tf\n",
        "\n",
        "from tensorflow.keras.layers import Dense\n",
        "\n",
        "from tensorflow.keras.models import Sequential\n",
        "from tensorflow.keras.models import Model\n",
        "\n",
        "X = tf.random.normal(shape=(4,10))\n",
        "\n",
        "# sequential method\n",
        "model = Sequential()\n",
        "model.add(Dense(units=10, activation='sigmoid'))\n",
        "model.add(Dense(units=20, activation='sigmoid'))\n",
        "\n",
        "Y = model(X)\n",
        "print(Y.numpy())\n",
        "\n",
        "# Model-subclassing\n",
        "class TestModel(Model):\n",
        "    def __init__(self):\n",
        "        super(TestModel, self).__init__()\n",
        "\n",
        "        self.dense1 = Dense(units=10, activation='sigmoid')\n",
        "        self.dense2 = Dense(units=20, activation='sigmoid')\n",
        "\n",
        "    def call(self, x):\n",
        "        x = self.dense1(x)\n",
        "        x = self.dense2(x)\n",
        "        return x\n",
        "\n",
        "model = TestModel()\n",
        "Y = model(X)\n"
      ],
      "metadata": {
        "id": "8Gkgkwa585KJ"
      },
      "execution_count": null,
      "outputs": []
    },
    {
      "cell_type": "code",
      "source": [
        "class TestModel(Model):\n",
        "    def __init__(self, n_neurons):\n",
        "        super(TestModel, self).__init__()\n",
        "        self.n_neurons = n_neurons\n",
        "\n",
        "        self.dense_layers = list()\n",
        "        for n_neuron in self.n_neurons:\n",
        "            self.dense_layers.append(Dense(units=n_neuron, activation='sigmoid'))\n",
        "\n",
        "    def call(self, x):\n",
        "        for dense in self.dense_layers:\n",
        "            x = dense(x)\n",
        "\n",
        "        return x\n",
        "\n",
        "n_neurons = [3, 4, 5]\n",
        "model = TestModel(n_neurons)"
      ],
      "metadata": {
        "id": "l09Hzl3s9fEn"
      },
      "execution_count": null,
      "outputs": []
    },
    {
      "cell_type": "markdown",
      "source": [
        "## Code.2-3-4: Layers in Models"
      ],
      "metadata": {
        "id": "gimjv0M8_CNM"
      }
    },
    {
      "cell_type": "code",
      "source": [
        "import tensorflow as tf\n",
        "\n",
        "from tensorflow.keras.layers import Dense\n",
        "\n",
        "from tensorflow.keras.models import Sequential\n",
        "\n",
        "X = tf.random.normal(shape=(4,10))\n",
        "\n",
        "# sequential method\n",
        "model = Sequential()\n",
        "model.add(Dense(units=10, activation='sigmoid'))\n",
        "model.add(Dense(units=20, activation='sigmoid'))\n",
        "\n",
        "Y = model(X)\n",
        "\n",
        "print(type(model.layers))\n",
        "print(model.layers)\n",
        "\n",
        "dense1 = model.layers[0]\n",
        "print(dense1)\n",
        "\n",
        "for tmp in dir(dense1):\n",
        "    print(tmp)"
      ],
      "metadata": {
        "colab": {
          "base_uri": "https://localhost:8080/"
        },
        "id": "fUuHhR3i_FhD",
        "outputId": "33293f6c-b43b-4d95-c963-1d203c541c4b"
      },
      "execution_count": 8,
      "outputs": [
        {
          "output_type": "stream",
          "name": "stdout",
          "text": [
            "<class 'list'>\n",
            "[<keras.src.layers.core.dense.Dense object at 0x78d8ebb57e80>, <keras.src.layers.core.dense.Dense object at 0x78d8dbdd78b0>]\n",
            "<keras.src.layers.core.dense.Dense object at 0x78d8ebb57e80>\n",
            "_TF_MODULE_IGNORED_PROPERTIES\n",
            "__annotations__\n",
            "__call__\n",
            "__class__\n",
            "__delattr__\n",
            "__dict__\n",
            "__dir__\n",
            "__doc__\n",
            "__eq__\n",
            "__format__\n",
            "__ge__\n",
            "__getattribute__\n",
            "__getstate__\n",
            "__gt__\n",
            "__hash__\n",
            "__init__\n",
            "__init_subclass__\n",
            "__le__\n",
            "__lt__\n",
            "__module__\n",
            "__ne__\n",
            "__new__\n",
            "__reduce__\n",
            "__reduce_ex__\n",
            "__repr__\n",
            "__setattr__\n",
            "__setstate__\n",
            "__sizeof__\n",
            "__str__\n",
            "__subclasshook__\n",
            "__weakref__\n",
            "_activity_regularizer\n",
            "_add_trackable\n",
            "_add_trackable_child\n",
            "_add_variable_with_custom_getter\n",
            "_auto_config\n",
            "_auto_get_config\n",
            "_auto_track_sub_layers\n",
            "_autocast\n",
            "_autographed_call\n",
            "_build_input_shape\n",
            "_call_spec\n",
            "_callable_losses\n",
            "_captured_weight_regularizer\n",
            "_cast_single_input\n",
            "_checkpoint_dependencies\n",
            "_clear_losses\n",
            "_compute_dtype\n",
            "_compute_dtype_object\n",
            "_copy_trackable_to_cpu\n",
            "_dedup_weights\n",
            "_deferred_dependencies\n",
            "_delete_tracking\n",
            "_deserialization_dependencies\n",
            "_deserialize_from_proto\n",
            "_dtype\n",
            "_dtype_policy\n",
            "_dynamic\n",
            "_eager_losses\n",
            "_expects_mask_arg\n",
            "_expects_training_arg\n",
            "_export_to_saved_model_graph\n",
            "_flatten\n",
            "_flatten_layers\n",
            "_flatten_modules\n",
            "_functional_construction_call\n",
            "_gather_children_attribute\n",
            "_gather_saveables_for_checkpoint\n",
            "_get_cell_name\n",
            "_get_existing_metric\n",
            "_get_input_masks\n",
            "_get_node_attribute_at_index\n",
            "_get_save_spec\n",
            "_get_trainable_state\n",
            "_get_unnested_name_scope\n",
            "_handle_activity_regularization\n",
            "_handle_deferred_dependencies\n",
            "_handle_weight_regularization\n",
            "_inbound_nodes\n",
            "_inbound_nodes_value\n",
            "_infer_output_signature\n",
            "_init_call_fn_args\n",
            "_init_set_name\n",
            "_initial_weights\n",
            "_input_spec\n",
            "_instrument_layer_creation\n",
            "_instrumented_keras_api\n",
            "_instrumented_keras_layer_class\n",
            "_instrumented_keras_model_class\n",
            "_is_layer\n",
            "_keras_api_names\n",
            "_keras_api_names_v1\n",
            "_keras_tensor_symbolic_call\n",
            "_lookup_dependency\n",
            "_losses\n",
            "_maybe_build\n",
            "_maybe_cast_inputs\n",
            "_maybe_create_attribute\n",
            "_maybe_initialize_trackable\n",
            "_metrics\n",
            "_metrics_lock\n",
            "_must_restore_from_config\n",
            "_name\n",
            "_name_based_attribute_restore\n",
            "_name_based_restores\n",
            "_name_scope\n",
            "_name_scope_on_declaration\n",
            "_no_dependency\n",
            "_non_trainable_weights\n",
            "_obj_reference_counts\n",
            "_obj_reference_counts_dict\n",
            "_object_identifier\n",
            "_outbound_nodes\n",
            "_outbound_nodes_value\n",
            "_preload_simple_restoration\n",
            "_preserve_input_structure_in_config\n",
            "_restore_from_tensors\n",
            "_saved_model_arg_spec\n",
            "_saved_model_inputs_spec\n",
            "_self_name_based_restores\n",
            "_self_saveable_object_factories\n",
            "_self_setattr_tracking\n",
            "_self_tracked_trackables\n",
            "_self_unconditional_checkpoint_dependencies\n",
            "_self_unconditional_deferred_dependencies\n",
            "_self_unconditional_dependency_names\n",
            "_self_update_uid\n",
            "_serialize_to_proto\n",
            "_serialize_to_tensors\n",
            "_set_connectivity_metadata\n",
            "_set_dtype_policy\n",
            "_set_mask_keras_history_checked\n",
            "_set_mask_metadata\n",
            "_set_save_spec\n",
            "_set_trainable_state\n",
            "_set_training_mode\n",
            "_setattr_tracking\n",
            "_should_cast_single_input\n",
            "_stateful\n",
            "_supports_masking\n",
            "_tf_api_names\n",
            "_tf_api_names_v1\n",
            "_thread_local\n",
            "_track_trackable\n",
            "_track_variable\n",
            "_track_variables\n",
            "_trackable_children\n",
            "_trackable_saved_model_saver\n",
            "_tracking_metadata\n",
            "_trainable\n",
            "_trainable_weights\n",
            "_unconditional_checkpoint_dependencies\n",
            "_unconditional_dependency_names\n",
            "_update_trackables\n",
            "_update_uid\n",
            "_updates\n",
            "_use_input_spec_as_call_signature\n",
            "activation\n",
            "activity_regularizer\n",
            "add_loss\n",
            "add_metric\n",
            "add_update\n",
            "add_variable\n",
            "add_weight\n",
            "bias\n",
            "bias_constraint\n",
            "bias_initializer\n",
            "bias_regularizer\n",
            "build\n",
            "build_from_config\n",
            "built\n",
            "call\n",
            "compute_dtype\n",
            "compute_mask\n",
            "compute_output_shape\n",
            "compute_output_signature\n",
            "count_params\n",
            "dtype\n",
            "dtype_policy\n",
            "dynamic\n",
            "finalize_state\n",
            "from_config\n",
            "get_build_config\n",
            "get_config\n",
            "get_input_at\n",
            "get_input_mask_at\n",
            "get_input_shape_at\n",
            "get_output_at\n",
            "get_output_mask_at\n",
            "get_output_shape_at\n",
            "get_weights\n",
            "inbound_nodes\n",
            "input\n",
            "input_mask\n",
            "input_shape\n",
            "input_spec\n",
            "kernel\n",
            "kernel_constraint\n",
            "kernel_initializer\n",
            "kernel_regularizer\n",
            "load_own_variables\n",
            "losses\n",
            "metrics\n",
            "name\n",
            "name_scope\n",
            "non_trainable_variables\n",
            "non_trainable_weights\n",
            "outbound_nodes\n",
            "output\n",
            "output_mask\n",
            "output_shape\n",
            "save_own_variables\n",
            "set_weights\n",
            "stateful\n",
            "submodules\n",
            "supports_masking\n",
            "trainable\n",
            "trainable_variables\n",
            "trainable_weights\n",
            "units\n",
            "updates\n",
            "use_bias\n",
            "variable_dtype\n",
            "variables\n",
            "weights\n",
            "with_name_scope\n"
          ]
        }
      ]
    },
    {
      "cell_type": "markdown",
      "source": [
        "## Code.2-3-5: Trainable Variables in Models"
      ],
      "metadata": {
        "id": "DJA5u6na_ny6"
      }
    },
    {
      "cell_type": "code",
      "source": [
        "import tensorflow as tf\n",
        "\n",
        "from tensorflow.keras.layers import Dense\n",
        "\n",
        "from tensorflow.keras.models import Sequential\n",
        "\n",
        "X = tf.random.normal(shape=(4,10))\n",
        "\n",
        "# sequential method\n",
        "model = Sequential()\n",
        "model.add(Dense(units=10, activation='sigmoid'))\n",
        "model.add(Dense(units=20, activation='sigmoid'))\n",
        "\n",
        "Y = model(X)\n",
        "\n",
        "print(type(model.trainable_variables))\n",
        "print(len(model.trainable_variables))\n",
        "\n",
        "for train_var in model.trainable_variables:\n",
        "    print(type(train_var), train_var.shape) # shape은 weight와 bias를 의미."
      ],
      "metadata": {
        "colab": {
          "base_uri": "https://localhost:8080/"
        },
        "id": "6i8XfO1Q_LeV",
        "outputId": "1c114ef0-d8c5-45cf-a494-da9c9d137f6b"
      },
      "execution_count": 10,
      "outputs": [
        {
          "output_type": "stream",
          "name": "stdout",
          "text": [
            "<class 'list'>\n",
            "4\n",
            "<class 'tensorflow.python.ops.resource_variable_ops.ResourceVariable'> (10, 10)\n",
            "<class 'tensorflow.python.ops.resource_variable_ops.ResourceVariable'> (10,)\n",
            "<class 'tensorflow.python.ops.resource_variable_ops.ResourceVariable'> (10, 20)\n",
            "<class 'tensorflow.python.ops.resource_variable_ops.ResourceVariable'> (20,)\n"
          ]
        }
      ]
    },
    {
      "cell_type": "code",
      "source": [],
      "metadata": {
        "id": "0-bhN4m-_1N3"
      },
      "execution_count": null,
      "outputs": []
    }
  ]
}