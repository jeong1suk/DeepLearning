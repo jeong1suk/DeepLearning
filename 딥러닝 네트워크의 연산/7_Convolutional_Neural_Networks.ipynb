{
  "nbformat": 4,
  "nbformat_minor": 0,
  "metadata": {
    "colab": {
      "private_outputs": true,
      "provenance": [],
      "authorship_tag": "ABX9TyPsCfpH8srsNqezzTpdd0l0",
      "include_colab_link": true
    },
    "kernelspec": {
      "name": "python3",
      "display_name": "Python 3"
    },
    "language_info": {
      "name": "python"
    }
  },
  "cells": [
    {
      "cell_type": "markdown",
      "metadata": {
        "id": "view-in-github",
        "colab_type": "text"
      },
      "source": [
        "<a href=\"https://colab.research.google.com/github/jeong1suk/DeepLearning/blob/math/%EB%94%A5%EB%9F%AC%EB%8B%9D%20%EB%84%A4%ED%8A%B8%EC%9B%8C%ED%81%AC%EC%9D%98%20%EC%97%B0%EC%82%B0/7_Convolutional_Neural_Networks.ipynb\" target=\"_parent\"><img src=\"https://colab.research.google.com/assets/colab-badge.svg\" alt=\"Open In Colab\"/></a>"
      ]
    },
    {
      "cell_type": "markdown",
      "source": [
        "# 7-1: Shapes in CNNs"
      ],
      "metadata": {
        "id": "9TVE_ga7xQA_"
      }
    },
    {
      "cell_type": "markdown",
      "source": [
        "## Code.7-1-1: Shapes in the Feature Extractors"
      ],
      "metadata": {
        "id": "NEy1GcWsxQeq"
      }
    },
    {
      "cell_type": "code",
      "execution_count": null,
      "metadata": {
        "id": "G2hTd-pWwez-"
      },
      "outputs": [],
      "source": [
        "import tensorflow as tf\n",
        "\n",
        "from tensorflow.keras.layers import Conv2D, MaxPooling2D, Flatten"
      ]
    },
    {
      "cell_type": "code",
      "source": [
        "N, n_H, n_W, n_C = 32,28, 28, 3\n",
        "n_conv_filter = 5\n",
        "pool_size, pool_strides = 2, 2\n",
        "k_size = 3\n",
        "batch_size = 32\n",
        "\n",
        "x = tf.random.normal(shape=(N, n_H, n_W, n_C))\n",
        "\n",
        "conv1 = Conv2D(filters=n_conv_filter, kernel_size=k_size,\n",
        "              padding='same', activation='relu')\n",
        "conv1_pool = MaxPooling2D(pool_size=pool_size, strides=pool_strides)\n",
        "\n",
        "conv2 = Conv2D(filters=n_conv_filter, kernel_size=k_size,\n",
        "              padding='same', activation='relu')\n",
        "conv2_pool = MaxPooling2D(pool_size=pool_size, strides=pool_strides)\n",
        "flatten = Flatten()\n",
        "\n",
        "print(\"Input: {}\\n\".format(x.shape))\n",
        "x = conv1(x)\n",
        "W, B = conv1.get_weights()\n",
        "print(\"After conv1: {}\\n\".format(x.shape))\n",
        "print(\"W/B: {} / {}\".format(W.shape, B.shape))\n",
        "x = conv1_pool(x)\n",
        "print(\"After conv1_pool: {}\\n\".format(x.shape))\n",
        "\n",
        "x = conv2(x)\n",
        "W, B = conv2.get_weights()\n",
        "print(\"After conv2: {}\\n\".format(x.shape))\n",
        "print(\"W/B: {} / {}\".format(W.shape, B.shape))\n",
        "x = conv2_pool(x)\n",
        "print(\"After conv2_pool: {}\\n\".format(x.shape))\n",
        "\n",
        "x = flatten(x)\n",
        "print(\"After flatten: {}\\n\".format(x.shape))"
      ],
      "metadata": {
        "id": "ZJKDrM07xXEN"
      },
      "execution_count": null,
      "outputs": []
    },
    {
      "cell_type": "markdown",
      "source": [
        "## Code.7-1-2: Shapes in the Classifiers"
      ],
      "metadata": {
        "id": "oP58mIyPxXUd"
      }
    },
    {
      "cell_type": "code",
      "source": [
        "import tensorflow as tf\n",
        "\n",
        "from tensorflow.keras.layers import Dense"
      ],
      "metadata": {
        "id": "KiMyOgXNxZI2"
      },
      "execution_count": null,
      "outputs": []
    },
    {
      "cell_type": "code",
      "source": [
        "n_neurons = [50, 25, 10]\n",
        "\n",
        "dense1 = Dense(units=n_neurons[0], activation='relu')\n",
        "dense2 = Dense(units=n_neurons[1], activation='relu')\n",
        "dense3 = Dense(units=n_neurons[2], activation='softmax')\n",
        "\n",
        "print(\"Input feature: {}\\n\".format(x.shape))\n",
        "x = dense1(x)\n",
        "W, B = dense1.get_weights()\n",
        "print(\"W/B: {} / {}\".format(W.shape, B.shape))\n",
        "print(\"After dense1: {}\\n\".format(x.shape))\n",
        "\n",
        "x = dense2(x)\n",
        "W, B = dense2.get_weights()\n",
        "print(\"W/B: {} / {}\".format(W.shape, B.shape))\n",
        "print(\"After dense2: {}\\n\".format(x.shape))\n",
        "\n",
        "x = dense3(x)\n",
        "W, B = dense3.get_weights()\n",
        "print(\"W/B: {} / {}\".format(W.shape, B.shape))\n",
        "print(\"After dense3: {}\\n\".format(x.shape))"
      ],
      "metadata": {
        "id": "bp9oHkZOxZdK"
      },
      "execution_count": null,
      "outputs": []
    },
    {
      "cell_type": "markdown",
      "source": [
        "## Code.7-1-3: Shapes in the Loss Functions"
      ],
      "metadata": {
        "id": "1G1OihhsxZp9"
      }
    },
    {
      "cell_type": "code",
      "source": [
        "from tensorflow.keras.losses import CategoricalCrossentropy"
      ],
      "metadata": {
        "id": "9p5zbgQ9xcOm"
      },
      "execution_count": null,
      "outputs": []
    },
    {
      "cell_type": "code",
      "source": [
        "y = tf.random.uniform(minval=0, maxval=10, shape=(32, ), dtype=tf.int32)\n",
        "\n",
        "y = tf.one_hot(y, depth=10)\n",
        "# print(y)\n",
        "\n",
        "loss_object = CategoricalCrossentropy()\n",
        "loss = loss_object(y, x)\n",
        "print(loss.shape)\n",
        "print(loss)"
      ],
      "metadata": {
        "id": "Ls0VRPQgxdL1"
      },
      "execution_count": null,
      "outputs": []
    },
    {
      "cell_type": "markdown",
      "source": [
        "# 7-2: Implementations of CNNs"
      ],
      "metadata": {
        "id": "qSfiVHwE0sUH"
      }
    },
    {
      "cell_type": "markdown",
      "source": [
        "## Code:7-2-1: Implementations with Sequential Method"
      ],
      "metadata": {
        "id": "fDtsS1o90tem"
      }
    },
    {
      "cell_type": "code",
      "source": [
        "import tensorflow as tf\n",
        "\n",
        "from tensorflow.keras.models import Sequential\n",
        "from tensorflow.keras.layers import Conv2D, MaxPooling2D, Flatten, Dense"
      ],
      "metadata": {
        "id": "hACoeGul0Mz_"
      },
      "execution_count": null,
      "outputs": []
    },
    {
      "cell_type": "code",
      "source": [
        "N, n_H, n_W, n_C = 4, 28, 28, 3\n",
        "n_conv_neurons = [10, 20, 30]\n",
        "n_dense_neurons = [50, 30, 10]\n",
        "k_size, padding = 3, 'same'\n",
        "activation = 'relu'\n",
        "pool_size, pool_strides = 2, 2\n",
        "\n",
        "x = tf.random.normal(shape=(N, n_H, n_W, n_C))\n",
        "print(x.shape)\n",
        "\n",
        "model = Sequential()\n",
        "model.add(Conv2D(filters=n_conv_neurons[0], kernel_size=k_size, padding=padding, activation=activation))\n",
        "model.add(MaxPooling2D(pool_size=pool_size, strides=pool_strides))\n",
        "model.add(Conv2D(filters=n_conv_neurons[1], kernel_size=k_size, padding=padding, activation=activation))\n",
        "model.add(MaxPooling2D(pool_size=pool_size, strides=pool_strides))\n",
        "model.add(Conv2D(filters=n_conv_neurons[2], kernel_size=k_size, padding=padding, activation=activation))\n",
        "model.add(MaxPooling2D(pool_size=pool_size, strides=pool_strides))\n",
        "model.add(Flatten())\n",
        "\n",
        "model.add(Dense(units=n_dense_neurons[0], activation=activation))\n",
        "model.add(Dense(units=n_dense_neurons[1], activation=activation))\n",
        "model.add(Dense(units=n_dense_neurons[2], activation='softmax'))\n",
        "\n",
        "predictions = model(x)\n",
        "print(predictions.shape)"
      ],
      "metadata": {
        "id": "KpxKh8Jw02MO"
      },
      "execution_count": null,
      "outputs": []
    },
    {
      "cell_type": "code",
      "source": [
        "x = tf.random.normal(shape=(N, n_H, n_W, n_C))\n",
        "print(x.shape)\n",
        "\n",
        "model = Sequential()\n",
        "for n_conv_neuron in n_conv_neurons:\n",
        "    model.add(Conv2D(filters=n_conv_neuron, kernel_size=k_size, padding=padding, activation=activation))\n",
        "    model.add(MaxPooling2D(pool_size=pool_size, strides=pool_strides))\n",
        "\n",
        "model.add(Flatten())\n",
        "for n_dense_neuron in n_dense_neurons:\n",
        "    model.add(Dense(units=n_dense_neuron, activation=activation))\n",
        "\n",
        "predictions = model(x)\n",
        "print(predictions.shape)"
      ],
      "metadata": {
        "id": "olz0RQGu2TUq"
      },
      "execution_count": null,
      "outputs": []
    },
    {
      "cell_type": "markdown",
      "source": [
        "## Code:7-2-2: Implementation with Model Sub-classing"
      ],
      "metadata": {
        "id": "QY3rA9Iw02Ye"
      }
    },
    {
      "cell_type": "code",
      "source": [
        "import tensorflow as tf\n",
        "\n",
        "from tensorflow.keras.models import Model\n",
        "from tensorflow.keras.layers import Conv2D, MaxPooling2D, Flatten, Dense"
      ],
      "metadata": {
        "id": "jdY-ZsP408bn"
      },
      "execution_count": null,
      "outputs": []
    },
    {
      "cell_type": "code",
      "source": [
        "class TestCNN(Model):\n",
        "    def __init__(self):\n",
        "        super(TestCNN, self).__init__()\n",
        "\n",
        "        self.conv1 = Conv2D(filters=n_conv_neurons[0], kernel_size=k_size, padding=padding, activation=activation)\n",
        "        self.conv1_pool = MaxPooling2D(pool_size=pool_size, strides=pool_strides)\n",
        "\n",
        "        self.conv2 = Conv2D(filters=n_conv_neurons[1], kernel_size=k_size, padding=padding, activation=activation)\n",
        "        self.conv2_pool = MaxPooling2D(pool_size=pool_size, strides=pool_strides)\n",
        "\n",
        "        self.conv3 = Conv2D(filters=n_conv_neurons[2], kernel_size=k_size, padding=padding, activation=activation)\n",
        "        self.conv3_pool = MaxPooling2D(pool_size=pool_size, strides=pool_strides)\n",
        "\n",
        "        self.flatten = Flatten()\n",
        "\n",
        "        self.dense1 = Dense(units=n_dense_neurons[0], activation=activation)\n",
        "        self.dense2 = Dense(units=n_dense_neurons[1], activation=activation)\n",
        "        self.dense3 = Dense(units=n_dense_neurons[2], activation='softmax')\n",
        "\n",
        "    def call(self, x):\n",
        "        print(x.shape)\n",
        "        x = self.conv1(x)\n",
        "        print(x.shape)\n",
        "        x = self.conv1_pool(x)\n",
        "        print(x.shape)\n",
        "\n",
        "        x = self.conv2(x)\n",
        "        print(x.shape)\n",
        "        x = self.conv2_pool(x)\n",
        "        print(x.shape)\n",
        "\n",
        "        x = self.conv3(x)\n",
        "        print(x.shape)\n",
        "        x = self.conv3_pool(x)\n",
        "        print(x.shape)\n",
        "\n",
        "        x = self.flatten(x)\n",
        "        print(x.shape)\n",
        "\n",
        "        x = self.dense1(x)\n",
        "        print(x.shape)\n",
        "        x = self.dense2(x)\n",
        "        print(x.shape)\n",
        "        x = self.dense3(x)\n",
        "        print(x.shape)\n",
        "\n",
        "        return x\n"
      ],
      "metadata": {
        "id": "VgoquF7B1GmZ"
      },
      "execution_count": null,
      "outputs": []
    },
    {
      "cell_type": "code",
      "source": [
        "N, n_H, n_W, n_C = 4, 28, 28, 3\n",
        "n_conv_neurons = [10, 20, 30]\n",
        "n_dense_neurons = [50, 30, 10]\n",
        "k_size, padding = 3, 'same'\n",
        "activation = 'relu'\n",
        "pool_size, pool_strides = 2, 2\n",
        "\n",
        "x = tf.random.normal(shape=(N, n_H, n_W, n_C))\n",
        "\n",
        "model = TestCNN()\n",
        "y = model(x)"
      ],
      "metadata": {
        "id": "ZprEYymm4BNX"
      },
      "execution_count": null,
      "outputs": []
    },
    {
      "cell_type": "markdown",
      "source": [
        "## Code:7-2-3: Implementation with Sequential + Layer Sub-classing"
      ],
      "metadata": {
        "id": "7VV0v54v09ok"
      }
    },
    {
      "cell_type": "code",
      "source": [
        "import tensorflow as tf\n",
        "\n",
        "from tensorflow.keras.models import Model\n",
        "from tensorflow.keras.layers import Layer, Conv2D, MaxPooling2D, Flatten, Dense"
      ],
      "metadata": {
        "id": "VixclGh41Buz"
      },
      "execution_count": null,
      "outputs": []
    },
    {
      "cell_type": "code",
      "source": [
        "class MyConv(Layer):\n",
        "    def __init__(self, n_neuron):\n",
        "        super(MyConv, self).__init__()\n",
        "\n",
        "        self.conv = Conv2D(filters=n_neuron, kernel_size=k_size, padding=padding, activation=activation)\n",
        "        self.conv_pool = MaxPooling2D(pool_size=pool_size, strides=pool_strides)\n",
        "\n",
        "    def call(self, x):\n",
        "        x = self.conv(x)\n",
        "        x = self.conv_pool(x)\n",
        "        return x"
      ],
      "metadata": {
        "id": "94b2VgTc1CEH"
      },
      "execution_count": null,
      "outputs": []
    },
    {
      "cell_type": "code",
      "source": [
        "model = Sequential()\n",
        "model.add(MyConv(n_conv_neurons[0]))\n",
        "model.add(MyConv(n_conv_neurons[1]))\n",
        "model.add(MyConv(n_conv_neurons[2]))\n",
        "model.add(Flatten())\n",
        "model.add(Dense(units=n_dense_neurons[0], activation=activation))\n",
        "model.add(Dense(units=n_dense_neurons[1], activation=activation))\n",
        "model.add(Dense(units=n_dense_neurons[2], activation='softmax'))\n"
      ],
      "metadata": {
        "id": "sgqHeTDK5McY"
      },
      "execution_count": null,
      "outputs": []
    },
    {
      "cell_type": "markdown",
      "source": [
        "## Code:7-2-4: Implementation with Model and Layer Sub-classing"
      ],
      "metadata": {
        "id": "Xn37LoTI1CRZ"
      }
    },
    {
      "cell_type": "code",
      "source": [
        "import tensorflow as tf\n",
        "\n",
        "from tensorflow.keras.models import Model\n",
        "from tensorflow.keras.layers import Layer, Conv2D, MaxPooling2D, Flatten, Dense"
      ],
      "metadata": {
        "id": "M39hvX4s1Fmu"
      },
      "execution_count": null,
      "outputs": []
    },
    {
      "cell_type": "code",
      "source": [
        "class MyConv(Layer):\n",
        "    def __init__(self, n_neuron):\n",
        "        super(MyConv, self).__init__()\n",
        "\n",
        "        self.conv = Conv2D(filters=n_neuron, kernel_size=k_size, padding=padding, activation=activation)\n",
        "        self.conv_pool = MaxPooling2D(pool_size=pool_size, strides=pool_strides)\n",
        "\n",
        "    def call(self, x):\n",
        "        x = self.conv(x)\n",
        "        x = self.conv_pool(x)\n",
        "        return x\n",
        "\n",
        "class TestCNN(Model):\n",
        "    def __init__(self):\n",
        "        super(TestCNN, self).__init__()\n",
        "\n",
        "        self.conv1 = MyConv(n_conv_neurons[0])\n",
        "        self.conv2 = MyConv(n_conv_neurons[1])\n",
        "        self.conv3 = MyConv(n_conv_neurons[2])\n",
        "        self.flatten = Flatten()\n",
        "\n",
        "        self.dense1 = Dense(units=n_dense_neurons[0], activation=activation)\n",
        "        self.dense2 = Dense(units=n_dense_neurons[1], activation=activation)\n",
        "        self.dense3 = Dense(units=n_dense_neurons[2], activation='softmax')\n",
        "\n",
        "    def call(self, x):\n",
        "        x = self.conv1(x)\n",
        "        x = self.conv2(x)\n",
        "        x = self.conv3(x)\n",
        "        x = self.flatten(x)\n",
        "\n",
        "        x = self.dense1(x)\n",
        "        x = self.dense2(x)\n",
        "        x = self.dense3(x)\n",
        "\n",
        "        return x\n"
      ],
      "metadata": {
        "id": "3KoJ76F21F-M"
      },
      "execution_count": null,
      "outputs": []
    }
  ]
}