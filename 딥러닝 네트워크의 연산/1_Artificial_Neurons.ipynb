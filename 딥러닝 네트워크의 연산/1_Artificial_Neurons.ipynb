{
  "cells": [
    {
      "cell_type": "markdown",
      "metadata": {
        "colab_type": "text",
        "id": "view-in-github"
      },
      "source": [
        "<a href=\"https://colab.research.google.com/github/jeong1suk/DeepLearning/blob/main/Artificial_Neurons.ipynb\" target=\"_parent\"><img src=\"https://colab.research.google.com/assets/colab-badge.svg\" alt=\"Open In Colab\"/></a>"
      ]
    },
    {
      "cell_type": "markdown",
      "metadata": {
        "id": "ndg3kNUARhbo"
      },
      "source": [
        "# 1-1 Affine Functions with 1 Feature"
      ]
    },
    {
      "cell_type": "markdown",
      "metadata": {
        "id": "fyrttKfKRk8s"
      },
      "source": [
        "## Code 1-1-1: Affine Function"
      ]
    },
    {
      "cell_type": "code",
      "execution_count": null,
      "metadata": {
        "id": "lNlK9qiGO2R5"
      },
      "outputs": [],
      "source": [
        "import tensorflow as tf\n",
        "\n",
        "from tensorflow.keras.layers import Dense"
      ]
    },
    {
      "cell_type": "code",
      "execution_count": null,
      "metadata": {
        "id": "wyuLM8JtPFpN"
      },
      "outputs": [],
      "source": [
        "x = tf.constant([[10.]]) # input setting\n",
        "# input -> matrix\n",
        "dense = Dense(units=1, activation='linear') # imp.an affine funtion\n",
        "\n",
        "y_tf = dense(x) # forward propagation + params initialization\n",
        "\n",
        "W, B = dense.get_weights() # get weight, bias\n",
        "\n",
        "y_man = tf.linalg.matmul(x, W) + B # 실제로 행렬의 곱셈이 일어나는지 확인하는 과정\n",
        "# forward propagation (manual)\n",
        "\n",
        "\n",
        "# print results\n",
        "print(\" ==== Input/Weight/Bias ==== \")\n",
        "print(f\"x: {x.shape}\\n{x.numpy()}\\n\")\n",
        "print(f\"W: {W.shape}\\n{W}\\n\")\n",
        "print(f\"B: {B.shape}\\n{B}\\n\")\n",
        "\n",
        "print(\" ==== Output ==== \")\n",
        "print(f\"y(Tensorflow): {y_tf.shape}\\n{y_tf.numpy()}\\n\")\n",
        "print(f\"y(Manual): {y_man.shape}\\n{y_man.numpy()}\\n\")"
      ]
    },
    {
      "cell_type": "markdown",
      "metadata": {
        "id": "YRf8RzKZRojv"
      },
      "source": [
        "## Code 1-1-1: Params Initialization"
      ]
    },
    {
      "cell_type": "code",
      "execution_count": null,
      "metadata": {
        "id": "L3Pl4F-wQSXF"
      },
      "outputs": [],
      "source": [
        "import tensorflow as tf\n",
        "from tensorflow.keras.layers import Dense\n",
        "from tensorflow.keras.initializers import Constant"
      ]
    },
    {
      "cell_type": "code",
      "execution_count": null,
      "metadata": {
        "id": "HtmrTFsBR05p"
      },
      "outputs": [],
      "source": [
        "x = tf.constant([10.])\n",
        "\n",
        "# weight/bias settings\n",
        "w, b = tf.constant(10.), tf.constant(20. )\n",
        "w_init, b_init = Constant(w), Constant(b)\n",
        "\n",
        "# imp. an affine function\n",
        "dense = Dense(\n",
        "    units=1,\n",
        "    activation='linear',\n",
        "    kernel_initializer=w_init,\n",
        "    bias_initializer=b_init\n",
        "    )\n",
        "\n",
        "y_tf = dense(x)\n",
        "print(y_tf)\n",
        "W, B = dense.get_weights()\n",
        "\n",
        "# print result\n",
        "print(f\"w:{W.shape}\\n{W}\\n\")\n",
        "print(f\"b:{B.shape}\\n{B}\\n\")"
      ]
    },
    {
      "cell_type": "markdown",
      "metadata": {
        "id": "0eyB6jqoTU67"
      },
      "source": [
        "# 1-2: Affine Functios with n Features"
      ]
    },
    {
      "cell_type": "markdown",
      "metadata": {
        "id": "CkVs7xwxTYJY"
      },
      "source": [
        "## Code 1-2-1: Affine Functions with n Features"
      ]
    },
    {
      "cell_type": "code",
      "execution_count": null,
      "metadata": {
        "id": "f34bDlMlSeT7"
      },
      "outputs": [],
      "source": [
        "import tensorflow as tf\n",
        "from tensorflow.keras.layers import Dense"
      ]
    },
    {
      "cell_type": "code",
      "execution_count": null,
      "metadata": {
        "id": "qtGBZnCYThhO"
      },
      "outputs": [],
      "source": [
        "x = tf.random.uniform(shape=(1,10), minval=0, maxval=10)\n",
        "print(x.shape, \"\\n\", x)\n",
        "\n",
        "dense = Dense(units=1)\n",
        "\n",
        "y_tf = dense(x)\n",
        "\n",
        "W, B = dense.get_weights()\n",
        "\n",
        "y_man = tf.linalg.matmul(x, W) + B\n",
        "\n",
        "# print results\n",
        "print(\" ==== Input/Weight/Bias ==== \")\n",
        "print(f\"x: {x.shape}\\n{x.numpy()}\\n\")\n",
        "print(f\"W: {W.shape}\\n{W}\\n\")\n",
        "print(f\"B: {B.shape}\\n{B}\\n\")\n",
        "\n",
        "print(\" ==== Output ==== \")\n",
        "print(f\"y(Tensorflow): {y_tf.shape}\\n{y_tf.numpy()}\\n\")\n",
        "print(f\"y(Manual): {y_man.shape}\\n{y_man.numpy()}\\n\")"
      ]
    },
    {
      "cell_type": "code",
      "execution_count": null,
      "metadata": {
        "id": "HeF0Yxc2ToE_"
      },
      "outputs": [],
      "source": []
    },
    {
      "cell_type": "markdown",
      "metadata": {
        "id": "16jWPRLNPfKw"
      },
      "source": [
        "# 1-3: Activation Functions"
      ]
    },
    {
      "cell_type": "markdown",
      "metadata": {
        "id": "TasgOsWSPjR3"
      },
      "source": [
        "## Code. 1-3-1: Activation Layers"
      ]
    },
    {
      "cell_type": "code",
      "execution_count": null,
      "metadata": {
        "id": "i1nhVQz-Pix4"
      },
      "outputs": [],
      "source": [
        "import tensorflow as tf\n",
        "from tensorflow.math import exp, maximum\n",
        "from tensorflow.keras.layers import Activation"
      ]
    },
    {
      "cell_type": "code",
      "execution_count": null,
      "metadata": {
        "id": "h4FTa9D1Pvd2"
      },
      "outputs": [],
      "source": [
        "x = tf.random.normal(shape=(1,5)) # imput setting\n",
        "\n",
        "# imp. activation function\n",
        "sigmoid = Activation('sigmoid')\n",
        "tanh = Activation('tanh')\n",
        "relu = Activation('relu')\n",
        "\n",
        "# forward propagation (Tensorflow)\n",
        "y_sigmoid_tf = sigmoid(x)\n",
        "y_tanh_tf = tanh(x)\n",
        "y_relu_tf = relu(x)\n",
        "\n",
        "# forward propagation (Manual)\n",
        "y_sigmoid_man = 1 / (1 + exp(-x))\n",
        "y_tanh_man = (exp(x) - exp(-x)) / (exp(x) + exp(-x))\n",
        "y_relu_man = maximum(x, 0)\n",
        "\n",
        "\n",
        "print(f\"x: {x.shape}\\n{x.numpy()}\")\n",
        "print(f\"Sigmoid(Tensorflow): {y_sigmoid_tf.shape}\\n{y_sigmoid_tf.numpy()}\")\n",
        "print(f\"Sigmoid(Manual): {y_sigmoid_man.shape}\\n{y_sigmoid_man.numpy()}\")\n",
        "\n",
        "print(f\"Tanh(Tensorflow): {y_tanh_tf.shape}\\n{y_tanh_tf.numpy()}\")\n",
        "print(f\"SigmTanhoid(Manual): {y_tanh_man.shape}\\n{y_tanh_man.numpy()}\")\n",
        "\n",
        "print(f\"ReLU(Tensorflow): {y_relu_tf.shape}\\n{y_relu_tf.numpy()}\")\n",
        "print(f\"ReLU(Manual): {y_relu_man.shape}\\n{y_relu_man.numpy()}\")\n"
      ]
    },
    {
      "cell_type": "markdown",
      "metadata": {
        "id": "aLhpv15TRAQT"
      },
      "source": [
        "## Code. 1-3-2: Activation in Dense Layer"
      ]
    },
    {
      "cell_type": "code",
      "execution_count": null,
      "metadata": {
        "id": "SRs0XnhUQMOI"
      },
      "outputs": [],
      "source": [
        "import tensorflow as tf\n",
        "from tensorflow.keras.layers import Dense"
      ]
    },
    {
      "cell_type": "code",
      "execution_count": null,
      "metadata": {
        "id": "b4vuU-BLRHGS"
      },
      "outputs": [],
      "source": [
        "x = tf.random.normal(shape=(1,5)) # input setting\n",
        "\n",
        "# imp. artificial neurons\n",
        "dense_sigmoid = Dense(units=1, activation='sigmoid')\n",
        "dense_tanh = Dense(units=1, activation='tanh')\n",
        "dense_relu = Dense(units=1, activation='relu')\n",
        "\n",
        "# forward propagation (Tensorflow)\n",
        "y_sigmoid = dense_sigmoid(x)\n",
        "y_tanh = dense_tanh(x)\n",
        "y_relu = dense_relu(x)\n",
        "\n",
        "print(f\"AN with Sigmoid: {y_sigmoid.shape}\\n{y_sigmoid.numpy()}\")\n",
        "print(f\"AN with Tanh: {y_tanh.shape}\\n{y_tanh.numpy()}\")\n",
        "print(f\"AN with ReLU: {y_relu.shape}\\n{y_relu.numpy()}\")\n",
        "\n",
        "# forward propagation (manual)\n",
        "print(\"\\n======\\n\")\n",
        "W, b = dense_sigmoid.get_weights()\n",
        "z = tf.linalg.matmul(x, W) + b\n",
        "a = 1 / (1 + exp(-z))\n",
        "print(f\"Activation value(Tensorflow): {y_sigmoid.shape}\\n{y_sigmoid.numpy()}\")\n",
        "print(f\"Activation value(Manual): {a.shape}\\n{a.numpy()}\")"
      ]
    },
    {
      "cell_type": "markdown",
      "metadata": {
        "id": "s4aJ6ztSSM-O"
      },
      "source": [
        "# 1-4: Artificial Neurons"
      ]
    },
    {
      "cell_type": "markdown",
      "metadata": {
        "id": "PXYrZRtqSRie"
      },
      "source": [
        "## Code. 1-4-1: Artificial Neurons"
      ]
    },
    {
      "cell_type": "code",
      "execution_count": null,
      "metadata": {
        "id": "hpWifk5vRj76"
      },
      "outputs": [],
      "source": [
        "import tensorflow as tf\n",
        "from tensorflow.keras.layers import Dense\n",
        "from tensorflow.math import exp, maximum"
      ]
    },
    {
      "cell_type": "code",
      "execution_count": null,
      "metadata": {
        "id": "turgg6duSa2A"
      },
      "outputs": [],
      "source": [
        "# activation = 'sigmoid'\n",
        "activation = 'tanh'\n",
        "# activation = 'relu'\n",
        "\n",
        "x = tf.random.uniform(shape=(1, 10)) # input setting\n",
        "\n",
        "dense = Dense(units=1, activation=activation) # imp. an affine + activation\n",
        "\n",
        "y_tf = dense(x)\n",
        "W, b = dense.get_weights()\n",
        "\n",
        "# calculate activation value manually\n",
        "y_man = tf.linalg.matmul(x, W) + b\n",
        "if activation == 'sigmoid':\n",
        "    y_man = 1/(1+exp(-y_man))\n",
        "elif activation == 'tanh':\n",
        "    y_man = (exp(y_man) - exp(-y_man)) / (exp(y_man) + exp(-y_man))\n",
        "elif activation == 'relu':\n",
        "    y_man = maximum(x, 0)\n",
        "\n",
        "print(\"Activation: \", activation)\n",
        "print(f\"y_tf: {y_tf.shape}\\n{y_tf.numpy()}\\n\")\n",
        "print(f\"y_man: {y_man.shape}\\n{y_man.numpy()}\\n\")"
      ]
    },
    {
      "cell_type": "markdown",
      "metadata": {
        "id": "ib4-qbtlTom1"
      },
      "source": [
        "# 1-5: Minibatches"
      ]
    },
    {
      "cell_type": "markdown",
      "metadata": {
        "id": "gLIosQuUTrBM"
      },
      "source": [
        "## Code. 1-5-1: Shapes of Dense Layers"
      ]
    },
    {
      "cell_type": "code",
      "execution_count": null,
      "metadata": {
        "id": "1O-o9dYgTRib"
      },
      "outputs": [],
      "source": [
        "import tensorflow as tf\n",
        "from tensorflow.keras.layers import Dense"
      ]
    },
    {
      "cell_type": "code",
      "execution_count": null,
      "metadata": {
        "id": "mQvkMRYkTyNQ"
      },
      "outputs": [],
      "source": [
        "N, n_features = 8, 10 # set input params\n",
        "x = tf.random.normal(shape=(N, n_features)) # generate minibatch\n",
        "\n",
        "dense = Dense(units=1, activation='relu') # imp. an AN\n",
        "y = dense(x) # forward propagation\n",
        "\n",
        "W, b = dense.get_weights()\n",
        "\n",
        "# print results\n",
        "print(\"Shape of x: \", x.shape)\n",
        "print(\"Shape of W: \", W.shape)\n",
        "print(\"Shape of b: \", b.shape)"
      ]
    },
    {
      "cell_type": "markdown",
      "metadata": {
        "id": "92MyFBDSUP0z"
      },
      "source": [
        "## Code. 1-5-2: Output Calculations"
      ]
    },
    {
      "cell_type": "code",
      "execution_count": null,
      "metadata": {
        "id": "rbbteJlTUIQJ"
      },
      "outputs": [],
      "source": [
        "import tensorflow as tf\n",
        "from tensorflow.keras.layers import Dense"
      ]
    },
    {
      "cell_type": "code",
      "execution_count": null,
      "metadata": {
        "id": "yZjaG6EHUU35"
      },
      "outputs": [],
      "source": [
        "N, n_features = 8, 10 # set input params\n",
        "x = tf.random.normal(shape=(N, n_features)) # generate minibatch\n",
        "\n",
        "dense = Dense(units=1, activation='sigmoid') # imp. an AN\n",
        "y_tf = dense(x) # forward propagation (Tensorflow)\n",
        "\n",
        "W, b = dense.get_weights() # get weight/bias\n",
        "\n",
        "y_man = tf.linalg.matmul(x, W) + b # forward propagation (Manual)\n",
        "y_man = 1 / (1 + tf.math.exp(-y_man))\n",
        "# print results\n",
        "print(f\"Output(Tensorflow):{y_tf.numpy()}\")\n",
        "print(f\"Output(Manual):{y_man.numpy()}\")\n",
        "print(tf.math.equal(y_tf, y_man))"
      ]
    },
    {
      "cell_type": "code",
      "execution_count": null,
      "metadata": {
        "id": "7gaft392U1dn"
      },
      "outputs": [],
      "source": []
    }
  ],
  "metadata": {
    "colab": {
      "authorship_tag": "ABX9TyPVKJxg9vYQ3f2Q7/zbERL3",
      "collapsed_sections": [
        "ndg3kNUARhbo",
        "0eyB6jqoTU67"
      ],
      "include_colab_link": true,
      "private_outputs": true,
      "provenance": []
    },
    "kernelspec": {
      "display_name": "Python 3.9.12 64-bit",
      "language": "python",
      "name": "python3"
    },
    "language_info": {
      "name": "python",
      "version": "3.9.12"
    },
    "vscode": {
      "interpreter": {
        "hash": "aee8b7b246df8f9039afb4144a1f6fd8d2ca17a180786b69acc140d282b71a49"
      }
    }
  },
  "nbformat": 4,
  "nbformat_minor": 0
}
