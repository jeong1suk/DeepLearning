{
  "nbformat": 4,
  "nbformat_minor": 0,
  "metadata": {
    "colab": {
      "private_outputs": true,
      "provenance": [],
      "authorship_tag": "ABX9TyMwXfpIWt8OY8rYN25kG4Vz",
      "include_colab_link": true
    },
    "kernelspec": {
      "name": "python3",
      "display_name": "Python 3"
    },
    "language_info": {
      "name": "python"
    }
  },
  "cells": [
    {
      "cell_type": "markdown",
      "metadata": {
        "id": "view-in-github",
        "colab_type": "text"
      },
      "source": [
        "<a href=\"https://colab.research.google.com/github/jeong1suk/DeepLearning/blob/math/%EB%94%A5%EB%9F%AC%EB%8B%9D%20%EB%84%A4%ED%8A%B8%EC%9B%8C%ED%81%AC%EC%9D%98%20%EC%97%B0%EC%82%B0/Dense_Layers.ipynb\" target=\"_parent\"><img src=\"https://colab.research.google.com/assets/colab-badge.svg\" alt=\"Open In Colab\"/></a>"
      ]
    },
    {
      "cell_type": "markdown",
      "source": [
        "# 2-1: Dense Layers"
      ],
      "metadata": {
        "id": "6nxy3M5bcK_h"
      }
    },
    {
      "cell_type": "markdown",
      "source": [
        "## Code.2-1-1: Shapes of Dense Layers"
      ],
      "metadata": {
        "id": "cxNgzX2HcNdC"
      }
    },
    {
      "cell_type": "code",
      "execution_count": null,
      "metadata": {
        "id": "f2kwJCnncH5T"
      },
      "outputs": [],
      "source": [
        "import numpy as np\n",
        "import tensorflow as tf\n",
        "from tensorflow.keras.layers import Dense\n",
        "\n",
        "from tensorflow.math import exp\n",
        "from tensorflow.linalg import matmul\n"
      ]
    },
    {
      "cell_type": "code",
      "source": [
        "N, n_feature = 1, 10\n",
        "X = tf.random.normal(shape=(N, n_feature))\n",
        "\n",
        "n_neuron = 3\n",
        "dense = Dense(units=n_neuron, activation=\"sigmoid\")\n",
        "Y = dense(X)\n",
        "\n",
        "W, B = dense.get_weights()\n",
        "\n",
        "print(\"==== Input/Weight/Bias ====\")\n",
        "print(\"X: \", X.shape)\n",
        "print(\"W: \", W.shape)\n",
        "print(\"B: \", B.shape)\n",
        "print(\"Y: \", Y.shape)\n",
        "\n",
        "print(W)"
      ],
      "metadata": {
        "id": "NdXZNZ9GcVEV"
      },
      "execution_count": null,
      "outputs": []
    },
    {
      "cell_type": "code",
      "source": [
        "N, n_feature = 8, 10\n",
        "X = tf.random.normal(shape=(N, n_feature))\n",
        "\n",
        "n_neuron = 3\n",
        "dense = Dense(units=n_neuron, activation=\"sigmoid\")\n",
        "Y = dense(X)\n",
        "\n",
        "W, B = dense.get_weights()\n",
        "\n",
        "print(\"==== Input/Weight/Bias ====\")\n",
        "print(\"X: \", X.shape)\n",
        "print(\"W: \", W.shape)\n",
        "print(\"B: \", B.shape)\n",
        "print(\"Y: \", Y.shape)"
      ],
      "metadata": {
        "id": "orglFzYmdCXn"
      },
      "execution_count": null,
      "outputs": []
    },
    {
      "cell_type": "code",
      "source": [
        "N, n_feature = 4, 10\n",
        "X = tf.random.normal(shape=(N, n_feature))\n",
        "\n",
        "n_neuron = 3\n",
        "dense = Dense(units=n_neuron, activation=\"sigmoid\")\n",
        "Y_tf = dense(X)\n",
        "\n",
        "W, B = dense.get_weights()\n",
        "print(\"Y(Tensorflow): \\n\", Y_tf.numpy())\n",
        "\n",
        "# calculate with matrix multiplication\n",
        "Z = matmul(X, W) + B\n",
        "Y_man_matmul = 1 / (1 + exp(-Z))\n",
        "print(\"Y(with matrix multiplication): \\n\", Y_man_matmul)\n",
        "\n",
        "# calculate with dot product\n",
        "Y_man_vec = np.zeros(shape=(N, n_neuron))\n",
        "\n",
        "for x_idx in range(N):\n",
        "    x = X[x_idx]\n",
        "\n",
        "    for nu_idx in range(n_neuron):\n",
        "        w, b = W[:, nu_idx], B[nu_idx]\n",
        "\n",
        "        z = tf.reduce_sum(x * w) + b\n",
        "        a = 1 / (1 + np.exp(-z))\n",
        "        Y_man_vec[x_idx, nu_idx] = a\n",
        "\n",
        "print(\"Y(with dot product): \\n\", Y_man_vec)"
      ],
      "metadata": {
        "id": "lSHNutEqdM2X"
      },
      "execution_count": null,
      "outputs": []
    },
    {
      "cell_type": "code",
      "source": [],
      "metadata": {
        "id": "sGQ7h_Bvdqkc"
      },
      "execution_count": null,
      "outputs": []
    }
  ]
}