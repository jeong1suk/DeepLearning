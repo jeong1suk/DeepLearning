{
  "nbformat": 4,
  "nbformat_minor": 0,
  "metadata": {
    "colab": {
      "private_outputs": true,
      "provenance": [],
      "authorship_tag": "ABX9TyODKJehbSgVEljCaWC6jWXI",
      "include_colab_link": true
    },
    "kernelspec": {
      "name": "python3",
      "display_name": "Python 3"
    },
    "language_info": {
      "name": "python"
    }
  },
  "cells": [
    {
      "cell_type": "markdown",
      "metadata": {
        "id": "view-in-github",
        "colab_type": "text"
      },
      "source": [
        "<a href=\"https://colab.research.google.com/github/jeong1suk/DeepLearning/blob/math/%EB%94%A5%EB%9F%AC%EB%8B%9D%20%EB%84%A4%ED%8A%B8%EC%9B%8C%ED%81%AC%EC%9D%98%20%EC%97%B0%EC%82%B0/6_Pooling_Layers.ipynb\" target=\"_parent\"><img src=\"https://colab.research.google.com/assets/colab-badge.svg\" alt=\"Open In Colab\"/></a>"
      ]
    },
    {
      "cell_type": "markdown",
      "source": [
        "# 6-1: Max/Avg Pooling"
      ],
      "metadata": {
        "id": "X0NKCM9fr9OS"
      }
    },
    {
      "cell_type": "markdown",
      "source": [
        "## Code.6-1-1:Max Pooling"
      ],
      "metadata": {
        "id": "-1Z3f4E2r9ay"
      }
    },
    {
      "cell_type": "code",
      "execution_count": null,
      "metadata": {
        "id": "_KvKMdeMruLA"
      },
      "outputs": [],
      "source": [
        "import numpy as np\n",
        "import tensorflow as tf\n",
        "\n",
        "from tensorflow.keras.layers import MaxPooling1D"
      ]
    },
    {
      "cell_type": "code",
      "source": [
        "L, f, s = 10, 2, 1\n",
        "x = tf.random.normal(shape=(1, L, 1))\n",
        "pool_max = MaxPooling1D(pool_size=f, strides=s)\n",
        "pooled_max = pool_max(x)\n",
        "\n",
        "print(\"x: {}\\n{}\".format(x.shape, x.numpy().flatten()))\n",
        "print(\"pooled_max(Tensorflow): {}\\n{}\".format(pooled_max.shape,\n",
        "                                              pooled_max.numpy().flatten()))\n",
        "\n",
        "\n",
        "x = x.numpy().flatten()\n",
        "pooled_max_man = np.zeros((L - f + 1, ))\n",
        "\n",
        "for i in range(L-f+1):\n",
        "    window = x[i:i+f]\n",
        "    pooled_max_man[i] = np.max(window)\n",
        "\n",
        "print(\"pooled_max(Manual): {}\\n{}\".format(pooled_max_man.shape,\n",
        "                                              pooled_max_man))"
      ],
      "metadata": {
        "id": "5BEZTmDxsQZF"
      },
      "execution_count": null,
      "outputs": []
    },
    {
      "cell_type": "markdown",
      "source": [
        "## Code.6-1-2: Average Pooling"
      ],
      "metadata": {
        "id": "VkKvp5lnsQIO"
      }
    },
    {
      "cell_type": "code",
      "source": [
        "import numpy as np\n",
        "import tensorflow as tf\n",
        "\n",
        "from tensorflow.keras.layers import AveragePooling1D"
      ],
      "metadata": {
        "id": "iM71iYmLsSL6"
      },
      "execution_count": null,
      "outputs": []
    },
    {
      "cell_type": "code",
      "source": [
        "L, f, s = 10, 2, 1\n",
        "x = tf.random.normal(shape=(1, L, 1))\n",
        "pool_avg = AveragePooling1D(pool_size=f, strides=s)\n",
        "pooled_avg = pool_avg(x)\n",
        "\n",
        "print(\"x: {}\\n{}\".format(x.shape, x.numpy().flatten()))\n",
        "print(\"pooled_avg(Tensorflow): {}\\n{}\".format(pooled_avg.shape,\n",
        "                                              pooled_avg.numpy().flatten()))\n",
        "\n",
        "\n",
        "x = x.numpy().flatten()\n",
        "pooled_avg_man = np.zeros((L - f + 1, ))\n",
        "\n",
        "for i in range(L-f+1):\n",
        "    window = x[i:i+f]\n",
        "    pooled_avg_man[i] = np.mean(window)\n",
        "\n",
        "print(\"pooled_avg(Manual): {}\\n{}\".format(pooled_avg_man.shape,\n",
        "                                              pooled_avg_man))"
      ],
      "metadata": {
        "id": "O4eb06DcsS5e"
      },
      "execution_count": null,
      "outputs": []
    },
    {
      "cell_type": "markdown",
      "source": [
        "# 6-2: 2D Max/Avg Pooling"
      ],
      "metadata": {
        "id": "g7lvpri3sTIz"
      }
    },
    {
      "cell_type": "markdown",
      "source": [
        "## Code:6-2-1: 2D Max Pooling"
      ],
      "metadata": {
        "id": "Sc28IqtbsWix"
      }
    },
    {
      "cell_type": "code",
      "source": [
        "import numpy as np\n",
        "import tensorflow as tf\n",
        "\n",
        "from tensorflow.keras.layers import MaxPooling2D"
      ],
      "metadata": {
        "id": "y-oBJrCksVW-"
      },
      "execution_count": null,
      "outputs": []
    },
    {
      "cell_type": "code",
      "source": [
        "N, n_H, n_W, n_C = 1, 5, 5, 1\n",
        "f, s = 2, 1\n",
        "\n",
        "x = tf.random.normal(shape=(N, n_H, n_W, n_C))\n",
        "pool_max = MaxPooling2D(pool_size=f, strides=s)\n",
        "pooled_max = pool_max(x)\n",
        "\n",
        "print(\"x: {}\\n{}\".format(x.shape, x.numpy().squeeze()))\n",
        "print(\"pooled_max(Tensorflow): {}\\n{}\".format(pooled_max.shape,\n",
        "                                              pooled_max.numpy().squeeze()))\n",
        "\n",
        "x = x.numpy().squeeze()\n",
        "pooled_max_man = np.zeros(shape=(n_H - f + 1, n_W - f + 1))\n",
        "for i in range(n_H - f + 1):\n",
        "    for j in range(n_W - f + 1):\n",
        "        window = x[i:i+f, j:j+f]\n",
        "        pooled_max_man[i, j] = np.max(window)\n",
        "\n",
        "print(\"pooled_max(Manual): {}\\n{}\".format(pooled_max_man.shape,\n",
        "                                              pooled_max_man))"
      ],
      "metadata": {
        "id": "xV56KvtlsVql"
      },
      "execution_count": null,
      "outputs": []
    },
    {
      "cell_type": "markdown",
      "source": [
        "## Code:6-2-2: 2D Average Pooling"
      ],
      "metadata": {
        "id": "-b0ldl3JsV2r"
      }
    },
    {
      "cell_type": "code",
      "source": [
        "import numpy as np\n",
        "import tensorflow as tf\n",
        "\n",
        "from tensorflow.keras.layers import AveragePooling2D"
      ],
      "metadata": {
        "id": "7cJSJVZ9sbkF"
      },
      "execution_count": null,
      "outputs": []
    },
    {
      "cell_type": "code",
      "source": [
        "N, n_H, n_W, n_C = 1, 5, 5, 1\n",
        "f, s = 2, 1\n",
        "\n",
        "x = tf.random.normal(shape=(N, n_H, n_W, n_C))\n",
        "pool_avg = AveragePooling2D(pool_size=f, strides=s)\n",
        "pooled_avg = pool_avg(x)\n",
        "\n",
        "print(\"x: {}\\n{}\".format(x.shape, x.numpy().flatten()))\n",
        "print(\"pooled_avg(Tensorflow): {}\\n{}\".format(pooled_avg.shape,\n",
        "                                              pooled_avg.numpy().squeeze()))\n",
        "\n",
        "\n",
        "x = x.numpy().squeeze()\n",
        "pooled_avg_man = np.zeros(shape=(n_H - f + 1, n_W - f + 1))\n",
        "for i in range(n_H - f + 1):\n",
        "    for j in range(n_W - f + 1):\n",
        "        window = x[i:i+f, j:j+f]\n",
        "        pooled_avg_man[i, j] = np.mean(window)\n",
        "\n",
        "print(\"pooled_avg(Manual): {}\\n{}\".format(pooled_avg_man.shape,\n",
        "                                              pooled_avg_man))"
      ],
      "metadata": {
        "id": "G8wSkq0rsb2d"
      },
      "execution_count": null,
      "outputs": []
    },
    {
      "cell_type": "markdown",
      "source": [
        "# 6-3: 3D Max/Avg Pooling"
      ],
      "metadata": {
        "id": "so_at_V8vn1I"
      }
    },
    {
      "cell_type": "markdown",
      "source": [
        "## Code.6-3-1: 3D Max Pooling"
      ],
      "metadata": {
        "id": "0_yPKH5fvqqH"
      }
    },
    {
      "cell_type": "code",
      "source": [
        "import math\n",
        "import numpy as np\n",
        "import tensorflow as tf\n",
        "\n",
        "from tensorflow.keras.layers import MaxPooling2D"
      ],
      "metadata": {
        "id": "zXnt548mvVg7"
      },
      "execution_count": null,
      "outputs": []
    },
    {
      "cell_type": "code",
      "source": [
        "N, n_H, n_W, n_C = 1, 4, 5, 3\n",
        "f, s = 2, 2\n",
        "\n",
        "x = tf.random.normal(shape=(N, n_H, n_W, n_C))\n",
        "# print(\"x: {}\\n{}\".format(x.shape,\n",
        "#                          np.transpose(x.numpy().squeeze()), (2, 0, 1)))\n",
        "\n",
        "pool_max = MaxPooling2D(pool_size=f, strides=s)\n",
        "pooled_max = pool_max(x)\n",
        "\n",
        "pooled_max_t = np.transpose(pooled_max.numpy().squeeze(), (2,0,1))\n",
        "print(\"pooled_max(Tensorflow): {}\\n{}\".format(pooled_max.shape,\n",
        "                                              pooled_max_t))\n",
        "\n",
        "####\n",
        "x = x.numpy().squeeze()\n",
        "n_H_ = math.floor((n_H - f) / s + 1)\n",
        "n_W_ = math.floor((n_W - f) / s + 1)\n",
        "pooled_max_man = np.zeros(shape=(n_H_, n_W_, n_C))\n",
        "\n",
        "print(pooled_max_man.shape)\n",
        "\n",
        "for c in range(n_C):\n",
        "    c_image = x[:, :, c]\n",
        "\n",
        "    h_ = 0\n",
        "    for h in range(0, n_H - f + 1, s):\n",
        "        w_ = 0\n",
        "        for w in range(0, n_W - f + 1, s):\n",
        "            window = c_image[h:h+f, w:w+f]\n",
        "            pooled_max_man[h_, w_, c] = np.max(window)\n",
        "\n",
        "            w_ += 1\n",
        "        h_ += 1\n",
        "\n",
        "pooled_max_man_t = np.transpose(pooled_max_man, (2, 0, 1))\n",
        "print(\"pooled_max(Manual): {}\\n{}\".format(pooled_max_man.shape,\n",
        "                                          pooled_max_man_t))"
      ],
      "metadata": {
        "id": "JbdSZbpavula"
      },
      "execution_count": null,
      "outputs": []
    },
    {
      "cell_type": "markdown",
      "source": [
        "# 6-4: Padding"
      ],
      "metadata": {
        "id": "c4fSzf-Rvuul"
      }
    },
    {
      "cell_type": "markdown",
      "source": [
        "## Code.6-4-1: Zero Padding2D Layer"
      ],
      "metadata": {
        "id": "q01jqTvLvwhM"
      }
    },
    {
      "cell_type": "code",
      "source": [
        "import numpy as np\n",
        "import tensorflow as tf\n",
        "\n",
        "from tensorflow.keras.layers import ZeroPadding2D"
      ],
      "metadata": {
        "id": "uixTvdmEvv9V"
      },
      "execution_count": null,
      "outputs": []
    },
    {
      "cell_type": "code",
      "source": [
        "images = tf.random.normal(shape=(1, 28, 28, 3))\n",
        "print(images.shape)\n",
        "# print(np.transpose(images.numpy().squeeze(), (2, 0, 1)))\n",
        "\n",
        "zero_padding = ZeroPadding2D(padding=1)\n",
        "y = zero_padding(images)\n",
        "print(y.shape)\n",
        "# print(np.transpose(y.numpy().squeeze(), (2, 0, 1)))"
      ],
      "metadata": {
        "id": "mA6JRdBHvzZw"
      },
      "execution_count": null,
      "outputs": []
    },
    {
      "cell_type": "markdown",
      "source": [
        "## Code.6-4-2: Zero Padding with Conv2D Layers"
      ],
      "metadata": {
        "id": "SkiAsEO-vzw1"
      }
    },
    {
      "cell_type": "code",
      "source": [
        "import numpy as np\n",
        "import tensorflow as tf\n",
        "\n",
        "from tensorflow.keras.layers import Conv2D"
      ],
      "metadata": {
        "id": "nkRkyTkRv3eE"
      },
      "execution_count": null,
      "outputs": []
    },
    {
      "cell_type": "code",
      "source": [
        "images = tf.random.normal(shape=(1, 28, 28, 3))\n",
        "conv = Conv2D(filters=1, kernel_size=3, padding='same')\n",
        "y = conv(images)\n",
        "print(y.shape)"
      ],
      "metadata": {
        "id": "4xc6RJTVv4kK"
      },
      "execution_count": null,
      "outputs": []
    },
    {
      "cell_type": "markdown",
      "source": [
        "# Strides"
      ],
      "metadata": {
        "id": "xjVMGgg7v42k"
      }
    },
    {
      "cell_type": "markdown",
      "source": [
        "## Code.6-5-1: Strides in Conv2D Layers"
      ],
      "metadata": {
        "id": "T_W2CHEMv6B4"
      }
    },
    {
      "cell_type": "code",
      "source": [
        "import tensorflow as tf\n",
        "\n",
        "from tensorflow.keras.layers import Conv2D"
      ],
      "metadata": {
        "id": "Xa-aghEAv5jb"
      },
      "execution_count": null,
      "outputs": []
    },
    {
      "cell_type": "code",
      "source": [
        "images = tf.random.normal(shape=(1, 28, 28, 3))\n",
        "conv = Conv2D(filters=1, kernel_size=3, padding='valid', strides=2)\n",
        "y = conv(images)\n",
        "\n",
        "print(images.shape)\n",
        "print(y.shape)"
      ],
      "metadata": {
        "id": "BmVdOGzLyxgr"
      },
      "execution_count": null,
      "outputs": []
    },
    {
      "cell_type": "markdown",
      "source": [
        "## Code.6-5-2: Strides in Pooling Layers"
      ],
      "metadata": {
        "id": "GQ9EhQRTy1QV"
      }
    },
    {
      "cell_type": "code",
      "source": [
        "import tensorflow as tf\n",
        "\n",
        "from tensorflow.keras.layers import MaxPooling2D"
      ],
      "metadata": {
        "id": "BgrUTPeEy0sq"
      },
      "execution_count": null,
      "outputs": []
    },
    {
      "cell_type": "code",
      "source": [
        "images = tf.random.normal(shape=(1, 28, 28, 3))\n",
        "conv = MaxPooling2D(pool_size=3, strides=2)\n",
        "y = conv(images)\n",
        "\n",
        "print(images.shape)\n",
        "print(y.shape)"
      ],
      "metadata": {
        "id": "d5nS6bSRy7nd"
      },
      "execution_count": null,
      "outputs": []
    },
    {
      "cell_type": "code",
      "source": [],
      "metadata": {
        "id": "gYqf5nT1zCZH"
      },
      "execution_count": null,
      "outputs": []
    }
  ]
}