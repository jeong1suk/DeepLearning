{
  "nbformat": 4,
  "nbformat_minor": 0,
  "metadata": {
    "colab": {
      "private_outputs": true,
      "provenance": [],
      "authorship_tag": "ABX9TyPHDG7dmDq8Rb233ZfFM+jV",
      "include_colab_link": true
    },
    "kernelspec": {
      "name": "python3",
      "display_name": "Python 3"
    },
    "language_info": {
      "name": "python"
    }
  },
  "cells": [
    {
      "cell_type": "markdown",
      "metadata": {
        "id": "view-in-github",
        "colab_type": "text"
      },
      "source": [
        "<a href=\"https://colab.research.google.com/github/jeong1suk/DeepLearning/blob/math/%EB%94%A5%EB%9F%AC%EB%8B%9D%20%EB%84%A4%ED%8A%B8%EC%9B%8C%ED%81%AC%EC%9D%98%20%EC%97%B0%EC%82%B0/6_Pooling_Layers.ipynb\" target=\"_parent\"><img src=\"https://colab.research.google.com/assets/colab-badge.svg\" alt=\"Open In Colab\"/></a>"
      ]
    },
    {
      "cell_type": "markdown",
      "source": [
        "# 6-1: Max/Avg Pooling"
      ],
      "metadata": {
        "id": "X0NKCM9fr9OS"
      }
    },
    {
      "cell_type": "markdown",
      "source": [
        "## Code.6-1-1:Max Pooling"
      ],
      "metadata": {
        "id": "-1Z3f4E2r9ay"
      }
    },
    {
      "cell_type": "code",
      "execution_count": null,
      "metadata": {
        "id": "_KvKMdeMruLA"
      },
      "outputs": [],
      "source": [
        "import numpy as np\n",
        "import tensorflow as tf\n",
        "\n",
        "from tensorflow.keras.layers import MaxPooling1D"
      ]
    },
    {
      "cell_type": "code",
      "source": [
        "L, f, s = 10, 2, 1\n",
        "x = tf.random.normal(shape=(1, L, 1))\n",
        "pool_max = MaxPooling1D(pool_size=f, strides=s)\n",
        "pooled_max = pool_max(x)\n",
        "\n",
        "print(\"x: {}\\n{}\".format(x.shape, x.numpy().flatten()))\n",
        "print(\"pooled_max(Tensorflow): {}\\n{}\".format(pooled_max.shape,\n",
        "                                              pooled_max.numpy().flatten()))\n",
        "\n",
        "\n",
        "x = x.numpy().flatten()\n",
        "pooled_max_man = np.zeros((L - f + 1, ))\n",
        "\n",
        "for i in range(L-f+1):\n",
        "    window = x[i:i+f]\n",
        "    pooled_max_man[i] = np.max(window)\n",
        "\n",
        "print(\"pooled_max(Manual): {}\\n{}\".format(pooled_max_man.shape,\n",
        "                                              pooled_max_man))"
      ],
      "metadata": {
        "id": "5BEZTmDxsQZF"
      },
      "execution_count": null,
      "outputs": []
    },
    {
      "cell_type": "markdown",
      "source": [
        "## Code.6-1-2: Average Pooling"
      ],
      "metadata": {
        "id": "VkKvp5lnsQIO"
      }
    },
    {
      "cell_type": "code",
      "source": [
        "import numpy as np\n",
        "import tensorflow as tf\n",
        "\n",
        "from tensorflow.keras.layers import AveragePooling1D"
      ],
      "metadata": {
        "id": "iM71iYmLsSL6"
      },
      "execution_count": null,
      "outputs": []
    },
    {
      "cell_type": "code",
      "source": [
        "L, f, s = 10, 2, 1\n",
        "x = tf.random.normal(shape=(1, L, 1))\n",
        "pool_avg = AveragePooling1D(pool_size=f, strides=s)\n",
        "pooled_avg = pool_avg(x)\n",
        "\n",
        "print(\"x: {}\\n{}\".format(x.shape, x.numpy().flatten()))\n",
        "print(\"pooled_avg(Tensorflow): {}\\n{}\".format(pooled_avg.shape,\n",
        "                                              pooled_avg.numpy().flatten()))\n",
        "\n",
        "\n",
        "x = x.numpy().flatten()\n",
        "pooled_avg_man = np.zeros((L - f + 1, ))\n",
        "\n",
        "for i in range(L-f+1):\n",
        "    window = x[i:i+f]\n",
        "    pooled_avg_man[i] = np.mean(window)\n",
        "\n",
        "print(\"pooled_avg(Manual): {}\\n{}\".format(pooled_avg_man.shape,\n",
        "                                              pooled_avg_man))"
      ],
      "metadata": {
        "id": "O4eb06DcsS5e"
      },
      "execution_count": null,
      "outputs": []
    },
    {
      "cell_type": "markdown",
      "source": [
        "# 6-2: 2D Max/Avg Pooling"
      ],
      "metadata": {
        "id": "g7lvpri3sTIz"
      }
    },
    {
      "cell_type": "markdown",
      "source": [
        "## Code:6-2-1: 2D Max Pooling"
      ],
      "metadata": {
        "id": "Sc28IqtbsWix"
      }
    },
    {
      "cell_type": "code",
      "source": [
        "import numpy as np\n",
        "import tensorflow as tf\n",
        "\n",
        "from tensorflow.keras.layers import MaxPooling2D"
      ],
      "metadata": {
        "id": "y-oBJrCksVW-"
      },
      "execution_count": null,
      "outputs": []
    },
    {
      "cell_type": "code",
      "source": [
        "N, n_H, n_W, n_C = 1, 5, 5, 1\n",
        "f, s = 2, 1\n",
        "\n",
        "x = tf.random.normal(shape=(N, n_H, n_W, n_C))\n",
        "pool_max = MaxPooling2D(pool_size=f, strides=s)\n",
        "pooled_max = pool_max(x)\n",
        "\n",
        "print(\"x: {}\\n{}\".format(x.shape, x.numpy().squeeze()))\n",
        "print(\"pooled_max(Tensorflow): {}\\n{}\".format(pooled_max.shape,\n",
        "                                              pooled_max.numpy().squeeze()))\n",
        "\n",
        "x = x.numpy().squeeze()\n",
        "pooled_max_man = np.zeros(shape=(n_H - f + 1, n_W - f + 1))\n",
        "for i in range(n_H - f + 1):\n",
        "    for j in range(n_W - f + 1):\n",
        "        window = x[i:i+f, j:j+f]\n",
        "        pooled_max_man[i, j] = np.max(window)\n",
        "\n",
        "print(\"pooled_max(Manual): {}\\n{}\".format(pooled_max_man.shape,\n",
        "                                              pooled_max_man))"
      ],
      "metadata": {
        "id": "xV56KvtlsVql"
      },
      "execution_count": null,
      "outputs": []
    },
    {
      "cell_type": "markdown",
      "source": [
        "## Code:6-2-2: 2D Average Pooling"
      ],
      "metadata": {
        "id": "-b0ldl3JsV2r"
      }
    },
    {
      "cell_type": "code",
      "source": [
        "import numpy as np\n",
        "import tensorflow as tf\n",
        "\n",
        "from tensorflow.keras.layers import AveragePooling2D"
      ],
      "metadata": {
        "id": "7cJSJVZ9sbkF"
      },
      "execution_count": null,
      "outputs": []
    },
    {
      "cell_type": "code",
      "source": [
        "N, n_H, n_W, n_C = 1, 5, 5, 1\n",
        "f, s = 2, 1\n",
        "\n",
        "x = tf.random.normal(shape=(N, n_H, n_W, n_C))\n",
        "pool_avg = AveragePooling2D(pool_size=f, strides=s)\n",
        "pooled_avg = pool_avg(x)\n",
        "\n",
        "print(\"x: {}\\n{}\".format(x.shape, x.numpy().flatten()))\n",
        "print(\"pooled_avg(Tensorflow): {}\\n{}\".format(pooled_avg.shape,\n",
        "                                              pooled_avg.numpy().squeeze()))\n",
        "\n",
        "\n",
        "x = x.numpy().squeeze()\n",
        "pooled_avg_man = np.zeros(shape=(n_H - f + 1, n_W - f + 1))\n",
        "for i in range(n_H - f + 1):\n",
        "    for j in range(n_W - f + 1):\n",
        "        window = x[i:i+f, j:j+f]\n",
        "        pooled_avg_man[i, j] = np.mean(window)\n",
        "\n",
        "print(\"pooled_avg(Manual): {}\\n{}\".format(pooled_avg_man.shape,\n",
        "                                              pooled_avg_man))"
      ],
      "metadata": {
        "id": "G8wSkq0rsb2d"
      },
      "execution_count": null,
      "outputs": []
    },
    {
      "cell_type": "code",
      "source": [],
      "metadata": {
        "id": "zXnt548mvVg7"
      },
      "execution_count": null,
      "outputs": []
    }
  ]
}