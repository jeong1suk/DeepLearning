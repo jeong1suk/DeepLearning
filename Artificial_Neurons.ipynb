{
  "nbformat": 4,
  "nbformat_minor": 0,
  "metadata": {
    "colab": {
      "private_outputs": true,
      "provenance": [],
      "collapsed_sections": [
        "ndg3kNUARhbo",
        "0eyB6jqoTU67"
      ],
      "authorship_tag": "ABX9TyPVKJxg9vYQ3f2Q7/zbERL3",
      "include_colab_link": true
    },
    "kernelspec": {
      "name": "python3",
      "display_name": "Python 3"
    },
    "language_info": {
      "name": "python"
    }
  },
  "cells": [
    {
      "cell_type": "markdown",
      "metadata": {
        "id": "view-in-github",
        "colab_type": "text"
      },
      "source": [
        "<a href=\"https://colab.research.google.com/github/jeong1suk/DeepLearning/blob/main/Artificial_Neurons.ipynb\" target=\"_parent\"><img src=\"https://colab.research.google.com/assets/colab-badge.svg\" alt=\"Open In Colab\"/></a>"
      ]
    },
    {
      "cell_type": "markdown",
      "source": [
        "# 1-1 Affine Functions with 1 Feature"
      ],
      "metadata": {
        "id": "ndg3kNUARhbo"
      }
    },
    {
      "cell_type": "markdown",
      "source": [
        "## Code 1-1-1: Affine Function"
      ],
      "metadata": {
        "id": "fyrttKfKRk8s"
      }
    },
    {
      "cell_type": "code",
      "execution_count": null,
      "metadata": {
        "id": "lNlK9qiGO2R5"
      },
      "outputs": [],
      "source": [
        "import tensorflow as tf\n",
        "\n",
        "from tensorflow.keras.layers import Dense"
      ]
    },
    {
      "cell_type": "code",
      "source": [
        "x = tf.constant([[10.]]) # input setting\n",
        "# input -> matrix\n",
        "dense = Dense(units=1, activation='linear') # imp.an affine funtion\n",
        "\n",
        "y_tf = dense(x) # forward propagation + params initialization\n",
        "\n",
        "W, B = dense.get_weights() # get weight, bias\n",
        "\n",
        "y_man = tf.linalg.matmul(x, W) + B # 실제로 행렬의 곱셈이 일어나는지 확인하는 과정\n",
        "# forward propagation (manual)\n",
        "\n",
        "\n",
        "# print results\n",
        "print(\" ==== Input/Weight/Bias ==== \")\n",
        "print(f\"x: {x.shape}\\n{x.numpy()}\\n\")\n",
        "print(f\"W: {W.shape}\\n{W}\\n\")\n",
        "print(f\"B: {B.shape}\\n{B}\\n\")\n",
        "\n",
        "print(\" ==== Output ==== \")\n",
        "print(f\"y(Tensorflow): {y_tf.shape}\\n{y_tf.numpy()}\\n\")\n",
        "print(f\"y(Manual): {y_man.shape}\\n{y_man.numpy()}\\n\")"
      ],
      "metadata": {
        "id": "wyuLM8JtPFpN"
      },
      "execution_count": null,
      "outputs": []
    },
    {
      "cell_type": "markdown",
      "source": [
        "## Code 1-1-1: Params Initialization"
      ],
      "metadata": {
        "id": "YRf8RzKZRojv"
      }
    },
    {
      "cell_type": "code",
      "source": [
        "import tensorflow as tf\n",
        "from tensorflow.keras.layers import Dense\n",
        "from tensorflow.keras.initializers import Constant"
      ],
      "metadata": {
        "id": "L3Pl4F-wQSXF"
      },
      "execution_count": null,
      "outputs": []
    },
    {
      "cell_type": "code",
      "source": [
        "x = tf.constant([10.])\n",
        "\n",
        "# weight/bias settings\n",
        "w, b = tf.constant(10.), tf.constant(20. )\n",
        "w_init, b_init = Constant(w), Constant(b)\n",
        "\n",
        "# imp. an affine function\n",
        "dense = Dense(\n",
        "    units=1,\n",
        "    activation='linear',\n",
        "    kernel_initializer=w_init,\n",
        "    bias_initializer=b_init\n",
        "    )\n",
        "\n",
        "y_tf = dense(x)\n",
        "print(y_tf)\n",
        "W, B = dense.get_weights()\n",
        "\n",
        "# print result\n",
        "print(f\"w:{W.shape}\\n{W}\\n\")\n",
        "print(f\"b:{B.shape}\\n{B}\\n\")"
      ],
      "metadata": {
        "id": "HtmrTFsBR05p"
      },
      "execution_count": null,
      "outputs": []
    },
    {
      "cell_type": "markdown",
      "source": [
        "# 1-2: Affine Functios with n Features"
      ],
      "metadata": {
        "id": "0eyB6jqoTU67"
      }
    },
    {
      "cell_type": "markdown",
      "source": [
        "## Code 1-2-1: Affine Functions with n Features"
      ],
      "metadata": {
        "id": "CkVs7xwxTYJY"
      }
    },
    {
      "cell_type": "code",
      "source": [
        "import tensorflow as tf\n",
        "from tensorflow.keras.layers import Dense"
      ],
      "metadata": {
        "id": "f34bDlMlSeT7"
      },
      "execution_count": null,
      "outputs": []
    },
    {
      "cell_type": "code",
      "source": [
        "x = tf.random.uniform(shape=(1,10), minval=0, maxval=10)\n",
        "print(x.shape, \"\\n\", x)\n",
        "\n",
        "dense = Dense(units=1)\n",
        "\n",
        "y_tf = dense(x)\n",
        "\n",
        "W, B = dense.get_weights()\n",
        "\n",
        "y_man = tf.linalg.matmul(x, W) + B\n",
        "\n",
        "# print results\n",
        "print(\" ==== Input/Weight/Bias ==== \")\n",
        "print(f\"x: {x.shape}\\n{x.numpy()}\\n\")\n",
        "print(f\"W: {W.shape}\\n{W}\\n\")\n",
        "print(f\"B: {B.shape}\\n{B}\\n\")\n",
        "\n",
        "print(\" ==== Output ==== \")\n",
        "print(f\"y(Tensorflow): {y_tf.shape}\\n{y_tf.numpy()}\\n\")\n",
        "print(f\"y(Manual): {y_man.shape}\\n{y_man.numpy()}\\n\")"
      ],
      "metadata": {
        "id": "qtGBZnCYThhO"
      },
      "execution_count": null,
      "outputs": []
    },
    {
      "cell_type": "code",
      "source": [],
      "metadata": {
        "id": "HeF0Yxc2ToE_"
      },
      "execution_count": null,
      "outputs": []
    },
    {
      "cell_type": "markdown",
      "source": [
        "# 1-3: Activation Functions"
      ],
      "metadata": {
        "id": "16jWPRLNPfKw"
      }
    },
    {
      "cell_type": "markdown",
      "source": [
        "## Code. 1-3-1: Activation Layers"
      ],
      "metadata": {
        "id": "TasgOsWSPjR3"
      }
    },
    {
      "cell_type": "code",
      "source": [
        "import tensorflow as tf\n",
        "from tensorflow.math import exp, maximum\n",
        "from tensorflow.keras.layers import Activation"
      ],
      "metadata": {
        "id": "i1nhVQz-Pix4"
      },
      "execution_count": null,
      "outputs": []
    },
    {
      "cell_type": "code",
      "source": [
        "x = tf.random.normal(shape=(1,5)) # imput setting\n",
        "\n",
        "# imp. activation function\n",
        "sigmoid = Activation('sigmoid')\n",
        "tanh = Activation('tanh')\n",
        "relu = Activation('relu')\n",
        "\n",
        "# forward propagation (Tensorflow)\n",
        "y_sigmoid_tf = sigmoid(x)\n",
        "y_tanh_tf = tanh(x)\n",
        "y_relu_tf = relu(x)\n",
        "\n",
        "# forward propagation (Manual)\n",
        "y_sigmoid_man = 1 / (1 + exp(-x))\n",
        "y_tanh_man = (exp(x) - exp(-x)) / (exp(x) + exp(-x))\n",
        "y_relu_man = maximum(x, 0)\n",
        "\n",
        "\n",
        "print(f\"x: {x.shape}\\n{x.numpy()}\")\n",
        "print(f\"Sigmoid(Tensorflow): {y_sigmoid_tf.shape}\\n{y_sigmoid_tf.numpy()}\")\n",
        "print(f\"Sigmoid(Manual): {y_sigmoid_man.shape}\\n{y_sigmoid_man.numpy()}\")\n",
        "\n",
        "print(f\"Tanh(Tensorflow): {y_tanh_tf.shape}\\n{y_tanh_tf.numpy()}\")\n",
        "print(f\"SigmTanhoid(Manual): {y_tanh_man.shape}\\n{y_tanh_man.numpy()}\")\n",
        "\n",
        "print(f\"ReLU(Tensorflow): {y_relu_tf.shape}\\n{y_relu_tf.numpy()}\")\n",
        "print(f\"ReLU(Manual): {y_relu_man.shape}\\n{y_relu_man.numpy()}\")\n"
      ],
      "metadata": {
        "id": "h4FTa9D1Pvd2"
      },
      "execution_count": null,
      "outputs": []
    },
    {
      "cell_type": "markdown",
      "source": [
        "## Code. 1-3-2: Activation in Dense Layer"
      ],
      "metadata": {
        "id": "aLhpv15TRAQT"
      }
    },
    {
      "cell_type": "code",
      "source": [
        "import tensorflow as tf\n",
        "from tensorflow.keras.layers import Dense"
      ],
      "metadata": {
        "id": "SRs0XnhUQMOI"
      },
      "execution_count": null,
      "outputs": []
    },
    {
      "cell_type": "code",
      "source": [
        "x = tf.random.normal(shape=(1,5)) # input setting\n",
        "\n",
        "# imp. artificial neurons\n",
        "dense_sigmoid = Dense(units=1, activation='sigmoid')\n",
        "dense_tanh = Dense(units=1, activation='tanh')\n",
        "dense_relu = Dense(units=1, activation='relu')\n",
        "\n",
        "# forward propagation (Tensorflow)\n",
        "y_sigmoid = dense_sigmoid(x)\n",
        "y_tanh = dense_tanh(x)\n",
        "y_relu = dense_relu(x)\n",
        "\n",
        "print(f\"AN with Sigmoid: {y_sigmoid.shape}\\n{y_sigmoid.numpy()}\")\n",
        "print(f\"AN with Tanh: {y_tanh.shape}\\n{y_tanh.numpy()}\")\n",
        "print(f\"AN with ReLU: {y_relu.shape}\\n{y_relu.numpy()}\")\n",
        "\n",
        "# forward propagation (manual)\n",
        "print(\"\\n======\\n\")\n",
        "W, b = dense_sigmoid.get_weights()\n",
        "z = tf.linalg.matmul(x, W) + b\n",
        "a = 1 / (1 + exp(-z))\n",
        "print(f\"Activation value(Tensorflow): {y_sigmoid.shape}\\n{y_sigmoid.numpy()}\")\n",
        "print(f\"Activation value(Manual): {a.shape}\\n{a.numpy()}\")"
      ],
      "metadata": {
        "id": "b4vuU-BLRHGS"
      },
      "execution_count": null,
      "outputs": []
    },
    {
      "cell_type": "markdown",
      "source": [
        "# 1-4: Artificial Neurons"
      ],
      "metadata": {
        "id": "s4aJ6ztSSM-O"
      }
    },
    {
      "cell_type": "markdown",
      "source": [
        "## Code. 1-4-1: Artificial Neurons"
      ],
      "metadata": {
        "id": "PXYrZRtqSRie"
      }
    },
    {
      "cell_type": "code",
      "source": [
        "import tensorflow as tf\n",
        "from tensorflow.keras.layers import Dense\n",
        "from tensorflow.math import exp, maximum"
      ],
      "metadata": {
        "id": "hpWifk5vRj76"
      },
      "execution_count": null,
      "outputs": []
    },
    {
      "cell_type": "code",
      "source": [
        "# activation = 'sigmoid'\n",
        "activation = 'tanh'\n",
        "# activation = 'relu'\n",
        "\n",
        "x = tf.random.uniform(shape=(1, 10)) # input setting\n",
        "\n",
        "dense = Dense(units=1, activation=activation) # imp. an affine + activation\n",
        "\n",
        "y_tf = dense(x)\n",
        "W, b = dense.get_weights()\n",
        "\n",
        "# calculate activation value manually\n",
        "y_man = tf.linalg.matmul(x, W) + b\n",
        "if activation == 'sigmoid':\n",
        "    y_man = 1/(1+exp(-y_man))\n",
        "elif activation == 'tanh':\n",
        "    y_man = (exp(y_man) - exp(-y_man)) / (exp(y_man) + exp(-y_man))\n",
        "elif activation == 'relu':\n",
        "    y_man = maximum(x, 0)\n",
        "\n",
        "print(\"Activation: \", activation)\n",
        "print(f\"y_tf: {y_tf.shape}\\n{y_tf.numpy()}\\n\")\n",
        "print(f\"y_man: {y_man.shape}\\n{y_man.numpy()}\\n\")"
      ],
      "metadata": {
        "id": "turgg6duSa2A"
      },
      "execution_count": null,
      "outputs": []
    },
    {
      "cell_type": "markdown",
      "source": [
        "# 1-5: Minibatches"
      ],
      "metadata": {
        "id": "ib4-qbtlTom1"
      }
    },
    {
      "cell_type": "markdown",
      "source": [
        "## Code. 1-5-1: Shapes of Dense Layers"
      ],
      "metadata": {
        "id": "gLIosQuUTrBM"
      }
    },
    {
      "cell_type": "code",
      "source": [
        "import tensorflow as tf\n",
        "from tensorflow.keras.layers import Dense"
      ],
      "metadata": {
        "id": "1O-o9dYgTRib"
      },
      "execution_count": null,
      "outputs": []
    },
    {
      "cell_type": "code",
      "source": [
        "N, n_features = 8, 10 # set input params\n",
        "x = tf.random.normal(shape=(N, n_features)) # generate minibatch\n",
        "\n",
        "dense = Dense(units=1, activation='relu') # imp. an AN\n",
        "y = dense(x) # forward propagation\n",
        "\n",
        "W, b = dense.get_weights()\n",
        "\n",
        "# print results\n",
        "print(\"Shape of x: \", x.shape)\n",
        "print(\"Shape of W: \", W.shape)\n",
        "print(\"Shape of b: \", b.shape)"
      ],
      "metadata": {
        "id": "mQvkMRYkTyNQ"
      },
      "execution_count": null,
      "outputs": []
    },
    {
      "cell_type": "markdown",
      "source": [
        "## Code. 1-5-2: Output Calculations"
      ],
      "metadata": {
        "id": "92MyFBDSUP0z"
      }
    },
    {
      "cell_type": "code",
      "source": [
        "import tensorflow as tf\n",
        "from tensorflow.keras.layers import Dense"
      ],
      "metadata": {
        "id": "rbbteJlTUIQJ"
      },
      "execution_count": null,
      "outputs": []
    },
    {
      "cell_type": "code",
      "source": [
        "N, n_features = 8, 10 # set input params\n",
        "x = tf.random.normal(shape=(N, n_features)) # generate minibatch\n",
        "\n",
        "dense = Dense(units=1, activation='sigmoid') # imp. an AN\n",
        "y_tf = dense(x) # forward propagation (Tensorflow)\n",
        "\n",
        "W, b = dense.get_weights() # get weight/bias\n",
        "\n",
        "y_man = tf.linalg.matmul(x, W) + b # forward propagation (Manual)\n",
        "y_man = 1 / (1 + tf.math.exp(-y_man))\n",
        "# print results\n",
        "print(f\"Output(Tensorflow):{y_tf.numpy()}\")\n",
        "print(f\"Output(Manual):{y_man.numpy()}\")\n",
        "print(tf.math.equal(y_tf, y_man))"
      ],
      "metadata": {
        "id": "yZjaG6EHUU35"
      },
      "execution_count": null,
      "outputs": []
    },
    {
      "cell_type": "code",
      "source": [],
      "metadata": {
        "id": "7gaft392U1dn"
      },
      "execution_count": null,
      "outputs": []
    }
  ]
}